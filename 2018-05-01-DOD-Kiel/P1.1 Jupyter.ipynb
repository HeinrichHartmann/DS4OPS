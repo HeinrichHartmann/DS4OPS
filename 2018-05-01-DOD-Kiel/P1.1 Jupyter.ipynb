{
 "cells": [
  {
   "cell_type": "markdown",
   "metadata": {},
   "source": [
    "# Introduction to Jupyter\n",
    "\n",
    "* Notebook: https://jupyter-notebook.readthedocs.io/en/stable/\n",
    "* Lab: https://jupyterlab.readthedocs.io/en/latest/user/interface.html\n",
    "\n",
    "\n",
    "Cells can contain Markdown (like this one) or code.\n",
    "Even LaTeX formulas are supported:\n",
    "\n",
    "$$ \\int_a^b f(x) dx $$"
   ]
  },
  {
   "cell_type": "code",
   "execution_count": 13,
   "metadata": {},
   "outputs": [
    {
     "name": "stdout",
     "output_type": "stream",
     "text": [
      "Hello world!\n"
     ]
    }
   ],
   "source": [
    "# This is a code cell\n",
    "\n",
    "print(\"Hello world!\")"
   ]
  },
  {
   "cell_type": "code",
   "execution_count": 3,
   "metadata": {},
   "outputs": [
    {
     "name": "stdout",
     "output_type": "stream",
     "text": [
      "total 944\n",
      "-rw-r--r-- 1 jovyan users  32049 May 13 12:39 example.png\n",
      "drwxr-xr-x 2 jovyan users    986 May 13 10:37 img\n",
      "-rw-r--r-- 1 jovyan users    875 May 13 14:06 P1.1 Jupyter.ipynb\n",
      "-rw-r--r-- 1 jovyan users   4463 May 13 13:58 P1.2 - Numpy.ipynb\n",
      "-rw-r--r-- 1 jovyan users   2364 May 13 13:59 P1.2 - Numpy (solution).ipynb\n",
      "-rw-r--r-- 1 jovyan users  58409 May 13 12:41 P1.3 - Matplotlib.ipynb\n",
      "-rw-r--r-- 1 jovyan users 831703 May 13 12:40 P1.3 - Matplotlib (solved).ipynb\n",
      "-rw-r--r-- 1 jovyan users    555 May 12 12:45 P2 - Histograms.ipynb\n",
      "-rw-r--r-- 1 jovyan users    555 May 12 12:46 P3 - Curve Fitting.ipynb\n",
      "-rw-r--r-- 1 jovyan users   3271 May 13 12:43 T1.1 - Visualizing Data.ipynb\n",
      "-rw-r--r-- 1 jovyan users    555 May 12 12:45 T2 - Histograms.ipynb\n",
      "-rw-r--r-- 1 jovyan users    555 May 12 12:45 T3 - Regression and Correlation.ipynb\n"
     ]
    }
   ],
   "source": [
    "# Shell commands can be evaluated directly from code cells\n",
    "\n",
    "!ls -l"
   ]
  },
  {
   "cell_type": "code",
   "execution_count": 8,
   "metadata": {},
   "outputs": [
    {
     "data": {
      "text/plain": [
       "\u001b[0;31mDocstring:\u001b[0m\n",
       "print(value, ..., sep=' ', end='\\n', file=sys.stdout, flush=False)\n",
       "\n",
       "Prints the values to a stream, or to sys.stdout by default.\n",
       "Optional keyword arguments:\n",
       "file:  a file-like object (stream); defaults to the current sys.stdout.\n",
       "sep:   string inserted between values, default a space.\n",
       "end:   string appended after the last value, default a newline.\n",
       "flush: whether to forcibly flush the stream.\n",
       "\u001b[0;31mType:\u001b[0m      builtin_function_or_method\n"
      ]
     },
     "metadata": {},
     "output_type": "display_data"
    }
   ],
   "source": [
    "# You can get help about a python function by evaluation ?<function name>\n",
    "?print"
   ]
  },
  {
   "cell_type": "code",
   "execution_count": 12,
   "metadata": {},
   "outputs": [
    {
     "name": "stdout",
     "output_type": "stream",
     "text": [
      "Hello world\n"
     ]
    }
   ],
   "source": [
    "# Alternatively put the cursor behind the \"(\" and press SHIFT-TAB\n",
    "print(\"Hello world\")"
   ]
  },
  {
   "cell_type": "markdown",
   "metadata": {},
   "source": [
    "Jupyer supports a number of Magic Commands\n",
    "\n",
    "Docs: https://ipython.org/ipython-doc/3/interactive/magics.html#line-magics\n",
    "\n",
    "The most important for us are:\n",
    "\n",
    "- %matplotlib controlling display output (we will see that later)\n",
    "- %time and %timeit for benchmarking\n",
    "- %prun for profiling"
   ]
  },
  {
   "cell_type": "code",
   "execution_count": 51,
   "metadata": {},
   "outputs": [
    {
     "name": "stdout",
     "output_type": "stream",
     "text": [
      "CPU times: user 0 ns, sys: 0 ns, total: 0 ns\n",
      "Wall time: 119 µs\n"
     ]
    }
   ],
   "source": [
    "import math\n",
    "def f():\n",
    "    return sorted([ math.sin(x**x/math.pi) for x in range(100) ])\n",
    "    \n",
    "%time f(); pass # suppress output by adding a no-op"
   ]
  },
  {
   "cell_type": "code",
   "execution_count": 52,
   "metadata": {},
   "outputs": [
    {
     "name": "stdout",
     "output_type": "stream",
     "text": [
      "79.1 µs ± 948 ns per loop (mean ± std. dev. of 7 runs, 10000 loops each)\n"
     ]
    }
   ],
   "source": [
    "%timeit f()"
   ]
  },
  {
   "cell_type": "code",
   "execution_count": 53,
   "metadata": {},
   "outputs": [
    {
     "data": {
      "text/plain": [
       "         106 function calls in 0.001 seconds\n",
       "\n",
       "   Ordered by: internal time\n",
       "\n",
       "   ncalls  tottime  percall  cumtime  percall filename:lineno(function)\n",
       "        1    0.000    0.000    0.001    0.001 <ipython-input-51-07504ce4fdbe>:3(<listcomp>)\n",
       "      100    0.000    0.000    0.000    0.000 {built-in method math.sin}\n",
       "        1    0.000    0.000    0.001    0.001 {built-in method builtins.exec}\n",
       "        1    0.000    0.000    0.000    0.000 {built-in method builtins.sorted}\n",
       "        1    0.000    0.000    0.001    0.001 <ipython-input-51-07504ce4fdbe>:2(f)\n",
       "        1    0.000    0.000    0.001    0.001 <string>:1(<module>)\n",
       "        1    0.000    0.000    0.000    0.000 {method 'disable' of '_lsprof.Profiler' objects}"
      ]
     },
     "metadata": {},
     "output_type": "display_data"
    },
    {
     "name": "stdout",
     "output_type": "stream",
     "text": [
      " "
     ]
    }
   ],
   "source": [
    "%prun f()"
   ]
  },
  {
   "cell_type": "code",
   "execution_count": 31,
   "metadata": {},
   "outputs": [],
   "source": [
    "# Exercises\n",
    "\n",
    "# 1. List all files in the ../datasets folder using ! commands\n",
    "# 2. Install python package csvkit via pip\n",
    "# 3. run csvstat on the web_request_rate\\:4w@5M.csv dataset\n",
    "\n",
    "# 4. Profile print(\"Hello World\") with %time, %timeit and %prun"
   ]
  }
 ],
 "metadata": {
  "kernelspec": {
   "display_name": "Python 3",
   "language": "python",
   "name": "python3"
  },
  "language_info": {
   "codemirror_mode": {
    "name": "ipython",
    "version": 3
   },
   "file_extension": ".py",
   "mimetype": "text/x-python",
   "name": "python",
   "nbconvert_exporter": "python",
   "pygments_lexer": "ipython3",
   "version": "3.6.4"
  }
 },
 "nbformat": 4,
 "nbformat_minor": 2
}
