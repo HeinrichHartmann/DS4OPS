{
 "cells": [
  {
   "cell_type": "markdown",
   "metadata": {},
   "source": [
    "## Numpy\n",
    "\n",
    "- Homepage: http://www.numpy.org/\n",
    "- Reference: https://docs.scipy.org/doc/numpy/reference/\n",
    "- Tutorial: https://docs.scipy.org/doc/numpy/user/quickstart.html\n",
    "- Internals: https://docs.scipy.org/doc/numpy/reference/internals.html\n",
    "\n",
    "- Features:\n",
    "  - a powerful N-dimensional array object\n",
    "  - sophisticated (broadcasting) functions\n",
    "  - tools for integrating C/C++ and Fortran code\n",
    "  - useful linear algebra, Fourier transform, and random number capabilities\n"
   ]
  },
  {
   "cell_type": "code",
   "execution_count": 2,
   "metadata": {},
   "outputs": [],
   "source": [
    "import numpy as np"
   ]
  },
  {
   "cell_type": "code",
   "execution_count": 3,
   "metadata": {},
   "outputs": [],
   "source": [
    "# Examples"
   ]
  },
  {
   "cell_type": "code",
   "execution_count": 25,
   "metadata": {},
   "outputs": [
    {
     "name": "stdout",
     "output_type": "stream",
     "text": [
      "[1 2 3]\n"
     ]
    }
   ],
   "source": [
    "A = np.array([1,2,3])\n",
    "print(A)"
   ]
  },
  {
   "cell_type": "code",
   "execution_count": 26,
   "metadata": {},
   "outputs": [
    {
     "data": {
      "text/plain": [
       "(3,)"
      ]
     },
     "execution_count": 26,
     "metadata": {},
     "output_type": "execute_result"
    }
   ],
   "source": [
    "A.shape # 1d array of length 3"
   ]
  },
  {
   "cell_type": "code",
   "execution_count": 38,
   "metadata": {},
   "outputs": [
    {
     "name": "stdout",
     "output_type": "stream",
     "text": [
      "Sum: 6\n",
      "Mean: 2.0\n",
      "Max: 3\n"
     ]
    }
   ],
   "source": [
    "# Basic arithmetic\n",
    "print(\"Sum:\", A.sum())\n",
    "print(\"Mean:\", A.mean())\n",
    "print(\"Max:\", A.max())"
   ]
  },
  {
   "cell_type": "code",
   "execution_count": 39,
   "metadata": {},
   "outputs": [
    {
     "name": "stdout",
     "output_type": "stream",
     "text": [
      "First element: 1\n",
      "Slice A[0] .. A[1]: [1 2]\n"
     ]
    }
   ],
   "source": [
    "# Indexing\n",
    "print(\"First element:\", A[0])\n",
    "print(\"Slice A[0] .. A[1]:\", A[0:2])"
   ]
  },
  {
   "cell_type": "code",
   "execution_count": 42,
   "metadata": {},
   "outputs": [
    {
     "name": "stdout",
     "output_type": "stream",
     "text": [
      "Scalar multiplication: [2 4 6]\n",
      "Entry wise square: [1 4 9]\n"
     ]
    }
   ],
   "source": [
    "# Broadcasting\n",
    "print(\"Scalar multiplication:\", A * 2)\n",
    "print(\"Entry wise square:\", A * A)"
   ]
  },
  {
   "cell_type": "code",
   "execution_count": 46,
   "metadata": {},
   "outputs": [],
   "source": [
    "# Two dimensional arrays\n",
    "B = np.array([[1,2,3],[4,5,6]])"
   ]
  },
  {
   "cell_type": "code",
   "execution_count": 50,
   "metadata": {},
   "outputs": [
    {
     "name": "stdout",
     "output_type": "stream",
     "text": [
      "Element at 0,0: 1\n",
      "Row 0: [1 2 3]\n",
      "Col 0: [1 4]\n"
     ]
    }
   ],
   "source": [
    "print(\"Element at 0,0:\", B[0,0])\n",
    "print(\"Row 0:\", B[0,:])\n",
    "print(\"Col 0:\", B[:,0])"
   ]
  },
  {
   "cell_type": "code",
   "execution_count": 73,
   "metadata": {},
   "outputs": [],
   "source": [
    "# Loading data\n",
    "\n",
    "X = np.loadtxt(\"../datasets/web_request_rate:4w@5M.csv\", delimiter=\",\", skiprows=1)"
   ]
  },
  {
   "cell_type": "code",
   "execution_count": 104,
   "metadata": {},
   "outputs": [],
   "source": [
    "# Exercises:\n",
    "\n",
    "# 1. How many rows and colums does the loaded dataset have?\n",
    "\n",
    "# 2. Calculate the min/max of the first column? Is the first column sorted? (Hint: use np.msort, np.all)\n",
    "\n",
    "# 3. Calculate the min/max/mean of the second column\n",
    "\n",
    "# 4. Use np.percentile to compute 0,10,20,...,100 percentile of the second column"
   ]
  }
 ],
 "metadata": {
  "kernelspec": {
   "display_name": "Python 3",
   "language": "python",
   "name": "python3"
  },
  "language_info": {
   "codemirror_mode": {
    "name": "ipython",
    "version": 3
   },
   "file_extension": ".py",
   "mimetype": "text/x-python",
   "name": "python",
   "nbconvert_exporter": "python",
   "pygments_lexer": "ipython3",
   "version": "3.6.4"
  }
 },
 "nbformat": 4,
 "nbformat_minor": 2
}
