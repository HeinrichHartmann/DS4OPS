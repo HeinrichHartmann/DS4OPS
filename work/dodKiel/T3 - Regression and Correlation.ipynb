{
 "cells": [
  {
   "cell_type": "markdown",
   "metadata": {},
   "source": [
    "# Theory 3: Regressions and Correlation\n",
    "\n",
    "Problem:\n",
    "* Given the history of a metric, predict future values.\n",
    "* Inherently impossible.\n",
    "* Need strong assumptions about regularities (i.e. model).\n",
    "* Measure the goodness of fit\n",
    "\n",
    "Application: Capacity planning.\n",
    "\n",
    "* How much ressources will I need tomorrow?\n",
    "* Usually covered by simple regression methods\n",
    "  - linear growth\n",
    "  - exponential growth"
   ]
  },
  {
   "cell_type": "markdown",
   "metadata": {},
   "source": [
    "# Regression Method\n",
    "\n",
    "* Parametric Ansatz for $f(t) = f(\\theta; t)$\n",
    "\n",
    "* Define residuals $e_i$ by:\n",
    "\n",
    "$$x_i = f(\\theta; t_i) + e_i$$\n",
    "\n",
    "* Loss function:\n",
    "\n",
    "$$ Loss(\\theta) = \\sum_i e_i^2 = \\sum_i (y_i - f(\\theta;t_i))^2 $$ \n",
    "\n",
    "* Chosse $\\hat{\\theta}$ by minimizing $Loss(\\theta)$.\n",
    "\n",
    "* A _goodness of fit_ measure is the minimal loss $MinLoss=Loss(\\hat{\\theta})$"
   ]
  },
  {
   "cell_type": "markdown",
   "metadata": {},
   "source": [
    "## Warmup: Constant Model\n",
    "\n",
    "* Parametric Ansatz for f: $f(x) = a$, constant.\n",
    "* Quadratic loss function:\n",
    "\n",
    "$$ Loss(a) = \\sum_i (y_i - a)^2 $$\n",
    "\n",
    "* Minimize loss function (_using calculus!_) gives __mean value__:\n",
    "\n",
    "$$ \\hat{a} = \\frac{1}{n} \\sum_i y_i = \\mu_Y $$\n",
    "\n",
    "\n",
    "\n",
    "$$ MinLoss(X,Y) = \\sum_i (y_i - \\mu_Y)^2 = n \\cdot Var(Y) $$\n",
    "\n",
    "* $Var(Y)$ measures goodness of constant fit!\n"
   ]
  },
  {
   "cell_type": "markdown",
   "metadata": {},
   "source": [
    "## Simple Linear Regression \n",
    "\n",
    "* Parametric Ansatz for f:\n",
    "  $$f(a,b; t) = bt + a, \\quad \\theta=(a,b)$$\n",
    "\n",
    "* Quadratic loss function:\n",
    "\n",
    "$$ Loss(a,b) = \\sum_i e_i^2 = \\sum_i (y_i - f(t_i))^2 =  \\sum_i (y_i - b t_i - a)^2 $$ \n",
    "\n",
    "$$ = a^2 A + ab \\cdot B + b^2 \\cdot C + D$$\n",
    "\n",
    "for some variables $A,B,C,D$ depending on $X,Y$.\n",
    "\n",
    "* Regression: Minimize $Loss(a,b)$ with respect to parameters $(a,b)$.\n",
    "\n",
    "* Since $Loss(a,b)$ is quadratic, it has a unique minimum which is easy to compute:\n",
    "\n",
    "$$\\hat{b} =  \\frac{\\sum_i (x_i - \\mu_x)(y_i - \\mu_y)}{\\sum_i(x_i - \\mu_x)^2} = Cov(X,Y) / Var(X) = \\rho_{X,Y} \\frac{\\sigma_Y}{\\sigma_X}$$\n",
    "\n",
    "$$\\hat{a} = \\mu_Y - \\hat{b} \\mu_X $$\n",
    "\n",
    "Remarks:\n",
    "\n",
    "* See (http://en.wikipedia.org/wiki/Simple_linear_regression) for a derivation.\n",
    "\n",
    "* Works also for more complex functions (e.g. polynomials)\n",
    "\n",
    "* Name \"linear\" regression comes from \"quadratic\" (!) loss function.\n",
    "\n",
    "* Note that Pearson Correlation appears in formula for $\\hat{b}$."
   ]
  },
  {
   "cell_type": "code",
   "execution_count": 7,
   "metadata": {
    "collapsed": true
   },
   "outputs": [],
   "source": [
    "import math\n",
    "import random\n",
    "import numpy as np\n",
    "import matplotlib as mpl\n",
    "from matplotlib import pyplot as plt\n",
    "import seaborn as sns\n",
    "mpl.rcParams['figure.figsize'] = (15,5)\n",
    "%matplotlib inline\n",
    "X = np.loadtxt(\"DataSets/RequestRates.csv\", delimiter=\",\")[:,1]"
   ]
  },
  {
   "cell_type": "code",
   "execution_count": 9,
   "metadata": {
    "collapsed": false
   },
   "outputs": [
    {
     "name": "stdout",
     "output_type": "stream",
     "text": [
      "model = 0.126045234879 + 0.678158488815 * x\n"
     ]
    },
    {
     "data": {
      "text/plain": [
       "[<matplotlib.lines.Line2D at 0x7fcb53a2ded0>]"
      ]
     },
     "execution_count": 9,
     "metadata": {},
     "output_type": "execute_result"
    },
    {
     "data": {
      "image/png": "[encoded data removed]",
      "text/plain": [
       "<matplotlib.figure.Figure at 0x7fcb51947150>"
      ]
     },
     "metadata": {},
     "output_type": "display_data"
    }
   ],
   "source": [
    "# Library Function for linear regression:\n",
    "#\n",
    "# stats.linregress?\n",
    "#\n",
    "\n",
    "# Request rates to nodes in a cluster\n",
    "X = np.loadtxt(\"DataSets/ReqMultiNode.csv\", delimiter=',', usecols=(0,1,2,3,4,5))[:1000]\n",
    "T, A, B, C, D, E = X.T\n",
    "\n",
    "from scipy import stats\n",
    "b, a, r_value, p_value, std_err = stats.linregress(A,B)\n",
    "\n",
    "print \"model = {} + {} * x\".format(a,b)\n",
    "\n",
    "grid = [0,1,2,3,4,5]\n",
    "f    = lambda x: a + b*x\n",
    "\n",
    "plt.scatter(A,B)\n",
    "plt.plot(grid, map(f, grid))"
   ]
  },
  {
   "cell_type": "markdown",
   "metadata": {},
   "source": [
    "## Goodness of fit\n",
    "\n",
    "* Natural measure for goodness of fit is the Loss of the ideal fit viewed as a function of $X$ and $Y$:\n",
    "\n",
    "$$ MinLoss(X,Y) = \\sum_i (y_i - \\hat{b} x_i - \\hat{a})^2 $$\n",
    "\n",
    "* Problem: Scales (quadratic) with $Y$: $MinLoss(X,3 Y)=9 MinLoss(Y)$ without the regression getting better or worse. \n",
    "\n",
    "* Use loss of constant regression (ie. mean value):\n",
    "\n",
    "  $$ ConstLoss(Y) = \\sum_i (y_i - \\mu_y)^2  = n \\cdot Var(Y) $$\n",
    "  \n",
    "**Def:** The $R^2-Value$ value is\n",
    "\n",
    "$$ R^2 = 1 - \\frac{MinLoss(X,Y)}{ConstLoss(Y)}$$\n",
    "\n",
    "* Lies in [0,1].\n",
    "* Perfect fit if $R^2=1$\n",
    "\n",
    "* Scaling invariance: Does not change when $X,Y$ is replaced by $a X, b Y$.\n",
    "\n",
    "* Can be viewed as variance ratio $SS_{reg} / SS_{tot}$.\n",
    "  http://en.wikipedia.org/wiki/Coefficient_of_determination\n",
    "\n",
    "**Proposition:**\n",
    "\n",
    "$$ R^2 = \\frac{Cov(X,Y)^2}{Var(X) \\cdot Var(Y)} = (\\frac{Cov(X,Y)}{\\sigma_X \\cdot \\sigma_Y})^2$$\n",
    "\n",
    "By Cauchy-Schwary inequality we have $0\\leq \\rho^2 \\leq 1$.\n",
    "\n",
    "The (Pearson) _correlation_ $\\rho = \\sqrt{R^2}$ is defined as measures how well a linear model fits the plot."
   ]
  },
  {
   "cell_type": "markdown",
   "metadata": {},
   "source": [
    "# Examples\n",
    "\n",
    "## Linear regression on memory usage\n",
    "\n",
    "* detemine time to run out of ressources\n",
    "* read off: annual growth (negative in this case)\n",
    "* read off: R2 value\n",
    "\n",
    "<figure>\n",
    "<img src=\"img/example-memory-usage.png\">\n",
    "<figcaption>Linear memory forecast.</figcaption>\n",
    "</figure>\n",
    "\n",
    "* share: https://share.circonus.com/shared/graphs/86d2480c-7729-4a97-bcde-f95ed997aedf/ngagXt#no-set  "
   ]
  },
  {
   "cell_type": "markdown",
   "metadata": {},
   "source": [
    "## Exponential regression\n",
    "\n",
    "Use a different Model\n",
    "\n",
    "$$f(t) = exp(a \\cdot t + b)$$\n",
    "\n",
    "Trick: Use log to reduce to linear case.\n",
    "\n",
    "* Forecast exponential growth\n",
    "* Compute Compound Annual Growth rate\n",
    "\n",
    "<figure>\n",
    "<img src=\"img/example_exp_forecast.png\">\n",
    "<figcaption>Exponential user-statistics forecast.</figcaption>\n",
    "</figure>"
   ]
  },
  {
   "cell_type": "markdown",
   "metadata": {},
   "source": [
    "* Ineractive Example: Disc space usage\n",
    "    \n",
    "https://circonus-ops.circonus.com/trending/graphs/view/48970eef-364b-4094-83a2-794232cb1abc#no-set"
   ]
  },
  {
   "cell_type": "markdown",
   "metadata": {},
   "source": [
    "# General Curve Fitting\n",
    "\n",
    "with scipy.optimize https://docs.scipy.org/doc/scipy/reference/generated/scipy.optimize.curve_fit.html"
   ]
  },
  {
   "cell_type": "code",
   "execution_count": 2,
   "metadata": {},
   "outputs": [],
   "source": [
    "import numpy as np\n",
    "import matplotlib.pyplot as plt\n",
    "from scipy.optimize import curve_fit"
   ]
  },
  {
   "cell_type": "code",
   "execution_count": 53,
   "metadata": {},
   "outputs": [],
   "source": [
    "def f(x,a,b,c):\n",
    "    return c/(1+(a*x - b)**2)"
   ]
  },
  {
   "cell_type": "code",
   "execution_count": 54,
   "metadata": {},
   "outputs": [
    {
     "data": {
      "text/plain": [
       "0.9615384615384615"
      ]
     },
     "execution_count": 54,
     "metadata": {},
     "output_type": "execute_result"
    }
   ],
   "source": [
    "f(0.2,1,0,1)"
   ]
  },
  {
   "cell_type": "code",
   "execution_count": 55,
   "metadata": {},
   "outputs": [
    {
     "data": {
      "text/plain": [
       "[<matplotlib.lines.Line2D at 0x7f32548d6cf8>]"
      ]
     },
     "execution_count": 55,
     "metadata": {},
     "output_type": "execute_result"
    },
    {
     "data": {
      "image/png": "[encoded data removed]",
      "text/plain": [
       "<matplotlib.figure.Figure at 0x7f325496d898>"
      ]
     },
     "metadata": {},
     "output_type": "display_data"
    }
   ],
   "source": [
    "X = np.linspace(0,10)\n",
    "Y = np.array([ f(x,1,5,1) for x in X ])\n",
    "plt.plot(X,Y)"
   ]
  },
  {
   "cell_type": "code",
   "execution_count": 33,
   "metadata": {},
   "outputs": [],
   "source": [
    "data = np.array([[1,1],[2,3],[5,7],[0,1],[7,3],[11,1]])"
   ]
  },
  {
   "cell_type": "code",
   "execution_count": 56,
   "metadata": {},
   "outputs": [
    {
     "data": {
      "text/plain": [
       "<matplotlib.collections.PathCollection at 0x7f325483a400>"
      ]
     },
     "execution_count": 56,
     "metadata": {},
     "output_type": "execute_result"
    },
    {
     "data": {
      "image/png": "[encoded data removed]",
      "text/plain": [
       "<matplotlib.figure.Figure at 0x7f325491ffd0>"
      ]
     },
     "metadata": {},
     "output_type": "display_data"
    }
   ],
   "source": [
    "plt.scatter(data[:,0],data[:,1])"
   ]
  },
  {
   "cell_type": "code",
   "execution_count": 57,
   "metadata": {},
   "outputs": [],
   "source": [
    "popt,pcov =curve_fit(f, data[:,0], data[:,1])"
   ]
  },
  {
   "cell_type": "code",
   "execution_count": 58,
   "metadata": {},
   "outputs": [
    {
     "name": "stdout",
     "output_type": "stream",
     "text": [
      "Optimal Parameters: [ 0.50663444  2.35696251  7.24075501]\n"
     ]
    }
   ],
   "source": [
    "print(\"Optimal Parameters:\", popt)"
   ]
  },
  {
   "cell_type": "code",
   "execution_count": 59,
   "metadata": {},
   "outputs": [
    {
     "data": {
      "text/plain": [
       "<matplotlib.collections.PathCollection at 0x7f325481e160>"
      ]
     },
     "execution_count": 59,
     "metadata": {},
     "output_type": "execute_result"
    },
    {
     "data": {
      "image/png": "[encoded data removed]",
      "text/plain": [
       "<matplotlib.figure.Figure at 0x7f325484ecf8>"
      ]
     },
     "metadata": {},
     "output_type": "display_data"
    }
   ],
   "source": [
    "X = np.linspace(-5,15,100)\n",
    "Y = np.array([ f(x,*popt) for x in X ])\n",
    "plt.plot(X,Y)\n",
    "plt.scatter(data[:,0],data[:,1])"
   ]
  },
  {
   "cell_type": "code",
   "execution_count": 61,
   "metadata": {},
   "outputs": [
    {
     "data": {
      "text/plain": [
       "array([[ 0.00323222,  0.01231516,  0.02404097],\n",
       "       [ 0.01231516,  0.05939571,  0.07015799],\n",
       "       [ 0.02404097,  0.07015799,  0.39816138]])"
      ]
     },
     "execution_count": 61,
     "metadata": {},
     "output_type": "execute_result"
    }
   ],
   "source": [
    "pcov"
   ]
  },
  {
   "cell_type": "code",
   "execution_count": null,
   "metadata": {},
   "outputs": [],
   "source": []
  }
 ],
 "metadata": {
  "kernelspec": {
   "display_name": "Python 3",
   "language": "python",
   "name": "python3"
  },
  "language_info": {
   "codemirror_mode": {
    "name": "ipython",
    "version": 3
   },
   "file_extension": ".py",
   "mimetype": "text/x-python",
   "name": "python",
   "nbconvert_exporter": "python",
   "pygments_lexer": "ipython3",
   "version": "3.6.4"
  }
 },
 "nbformat": 4,
 "nbformat_minor": 2
}
