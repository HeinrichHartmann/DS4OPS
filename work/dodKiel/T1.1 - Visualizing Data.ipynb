{
 "cells": [
  {
   "cell_type": "markdown",
   "metadata": {
    "slideshow": {
     "slide_type": "slide"
    }
   },
   "source": [
    "# Theory 1.1: Visualizing Data\n",
    "\n",
    "* First step in all data anaytics!\n",
    "* The human eye is well trained in capturing essential features\n",
    "* Descriptive statistics are largely concerned with qunatifying intuitive concepts"
   ]
  },
  {
   "cell_type": "markdown",
   "metadata": {
    "slideshow": {
     "slide_type": "slide"
    }
   },
   "source": [
    "## Rugplots\n",
    "\n",
    "- simplest possible plot\n",
    "- one-dimensional data\n",
    "- ignores ordering\n",
    "- use jitter to show multiplicities\n",
    "\n",
    "<figure>\n",
    "<img src=\"img/example_rugplot.png\">\n",
    "<figcaption>Example Rugplot</figcaption>\n",
    "</figure>"
   ]
  },
  {
   "cell_type": "markdown",
   "metadata": {
    "slideshow": {
     "slide_type": "slide"
    }
   },
   "source": [
    "## Histograms\n",
    "\n",
    "- one-dimensional data only\n",
    "- ignores ordering\n",
    "- use area to compare ratios of data\n",
    "- easier to read than rugplots\n",
    "- many choices involved\n",
    "\n",
    "<figure>\n",
    "<img src=\"img/example_histogram.png\">\n",
    "<figcaption>Example Histogram</figcaption>\n",
    "</figure>\n",
    "\n",
    "We will talk more about histograms in the next episode."
   ]
  },
  {
   "cell_type": "markdown",
   "metadata": {
    "slideshow": {
     "slide_type": "slide"
    }
   },
   "source": [
    "## Scatterplots\n",
    "\n",
    "- two dimensional data $x_i,y_i$.\n",
    "- ignores ordering\n",
    "- two-dimensional variant of rugplot\n",
    "- show dependency between the two axes\n",
    "\n",
    "<figure>\n",
    "<img src=\"img/example_scatterplot_1.png\" width=\"45%\" style=\"float:left\">\n",
    "<img src=\"img/example_scatterplot_2.png\" width=\"45%\">\n",
    "<figcaption>Example Scatterplot</figcaption>\n",
    "</figure>"
   ]
  },
  {
   "cell_type": "markdown",
   "metadata": {
    "slideshow": {
     "slide_type": "slide"
    }
   },
   "source": [
    "## Line-Plots\n",
    "\n",
    "- special case of scatter plot\n",
    "- interpolation lines add the illusion of continuity\n",
    "- widely used in parctice\n",
    "\n",
    "<figure>\n",
    "<img src=\"img/example_lineplot.png\">\n",
    "<figcaption>Example Line Plot\n",
    "</figcaption>\n",
    "</figure>"
   ]
  },
  {
   "cell_type": "markdown",
   "metadata": {
    "slideshow": {
     "slide_type": "slide"
    }
   },
   "source": [
    "# Relations between basic plot types\n",
    "\n",
    "* Lineplots are a special case of scatterplots\n",
    "* Scatterplot has marginal rugplots\n",
    "* Lineplot has marginal y-rugplot\n",
    "* Histograms show the same information as rugplots"
   ]
  }
 ],
 "metadata": {
  "kernelspec": {
   "display_name": "Python 3",
   "language": "python",
   "name": "python3"
  },
  "language_info": {
   "codemirror_mode": {
    "name": "ipython",
    "version": 3
   },
   "file_extension": ".py",
   "mimetype": "text/x-python",
   "name": "python",
   "nbconvert_exporter": "python",
   "pygments_lexer": "ipython3",
   "version": "3.6.4"
  }
 },
 "nbformat": 4,
 "nbformat_minor": 2
}
