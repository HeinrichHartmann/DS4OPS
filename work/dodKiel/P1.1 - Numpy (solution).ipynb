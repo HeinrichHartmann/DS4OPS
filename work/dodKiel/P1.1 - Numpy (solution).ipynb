{
 "cells": [
  {
   "cell_type": "code",
   "execution_count": 3,
   "metadata": {},
   "outputs": [
    {
     "name": "stdout",
     "output_type": "stream",
     "text": [
      "Shape: (8065, 2)\n",
      "max/min first column: 1428939600.0 1431358800.0\n",
      "Sorted?: True\n",
      "min/max/mean 2.1434 74.1995 35.8260087415\n"
     ]
    },
    {
     "data": {
      "text/plain": [
       "[(0.0, 2.1434000000000002),\n",
       " (10.0, 24.979800000000001),\n",
       " (20.0, 27.2561),\n",
       " (30.0, 29.814459999999997),\n",
       " (40.0, 33.484160000000003),\n",
       " (50.0, 36.343299999999999),\n",
       " (60.0, 38.6267),\n",
       " (70.0, 40.720080000000003),\n",
       " (80.0, 43.425060000000009),\n",
       " (90.0, 46.556619999999995),\n",
       " (100.0, 74.1995)]"
      ]
     },
     "execution_count": 3,
     "metadata": {},
     "output_type": "execute_result"
    }
   ],
   "source": [
    "# Exercises:\n",
    "\n",
    "# 1. How many rows and colums does the loaded dataset have?\n",
    "\n",
    "# 2. Calculate the min/max of the first column? Is the first column sorted? (Hint: use np.msort, np.all)\n",
    "\n",
    "# 3. Calculate the min/max/mean of the second column\n",
    "\n",
    "# 4. Use np.percentile to compute 0,10,20,...,100 percentile of the second column\n",
    "\n",
    "import numpy as np\n",
    "X = np.loadtxt(\"../datasets/web_request_rate:4w@5M.csv\", delimiter=\",\", skiprows=1)\n",
    "\n",
    "# 1\n",
    "print(\"Shape:\",X.shape) # 2 columns, 8060 rows\n",
    "\n",
    "# 2\n",
    "print(\"max/min first column:\", X[:,0].min(), X[:,0].max())\n",
    "print(\"Sorted?:\", (np.msort(X[:,0]) == X[:,0]).all())\n",
    "\n",
    "# 3\n",
    "C = X[:,1] # give the column a name\n",
    "print(\"min/max/mean\", C.min(),C.max(),C.mean())\n",
    "\n",
    "# 4\n",
    "[ (p,np.percentile(C, p)) for p in np.linspace(0,100,11) ]"
   ]
  }
 ],
 "metadata": {
  "kernelspec": {
   "display_name": "Python 3",
   "language": "python",
   "name": "python3"
  },
  "language_info": {
   "codemirror_mode": {
    "name": "ipython",
    "version": 3
   },
   "file_extension": ".py",
   "mimetype": "text/x-python",
   "name": "python",
   "nbconvert_exporter": "python",
   "pygments_lexer": "ipython3",
   "version": "3.6.4"
  }
 },
 "nbformat": 4,
 "nbformat_minor": 2
}
