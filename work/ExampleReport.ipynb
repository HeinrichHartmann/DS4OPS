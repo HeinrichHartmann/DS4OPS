{
 "cells": [
  {
   "cell_type": "markdown",
   "metadata": {},
   "source": [
    "# System Utilization Report\n",
    "\n",
    "Static text can just be put into Markdown cells\n"
   ]
  },
  {
   "cell_type": "code",
   "execution_count": 150,
   "metadata": {},
   "outputs": [
    {
     "name": "stdout",
     "output_type": "stream",
     "text": [
      "Generated on Tue Oct 17 20:10:56 UTC 2017\r\n"
     ]
    }
   ],
   "source": [
    "# Let's use shell tools to generate a time stamp \n",
    "!echo \"Generated on $(date)\""
   ]
  },
  {
   "cell_type": "code",
   "execution_count": 99,
   "metadata": {},
   "outputs": [],
   "source": [
    "# patch the python path, so we can import simple_circ\n",
    "import sys\n",
    "sys.path.append(\"./lib\")\n",
    "\n",
    "# Initialize Circonus Data Fetcher as always\n",
    "import simple_circ\n",
    "token = \"1193d5ff-7f51-46ca-a6e0-a7f9afd5791b\"\n",
    "api = simple_circ.api(token)"
   ]
  },
  {
   "cell_type": "markdown",
   "metadata": {},
   "source": [
    "Data fetching with simple_circ generates some debugging output, which I can't disable here.\n",
    "Patch simple_circ to get rid of this."
   ]
  },
  {
   "cell_type": "code",
   "execution_count": 213,
   "metadata": {},
   "outputs": [
    {
     "name": "stderr",
     "output_type": "stream",
     "text": [
      "fetching {'name': 'vm`meminfo`MemTotal', 'check_id': '235871'}\n",
      "fetching {'name': 'vm`meminfo`Buffers', 'check_id': '235871'}\n",
      "fetching {'name': 'vm`meminfo`Cached', 'check_id': '235871'}\n",
      "fetching {'name': 'vm`meminfo`MemFree', 'check_id': '235871'}\n",
      "fetching {'name': 'cpu`idle', 'check_id': '235871'}\n",
      "fetching {'name': 'if`eth0`out_bytes', 'check_id': '235871'}\n",
      "fetching {'name': 'if`vethf86d566`out_bytes', 'check_id': '235871'}\n",
      "fetching {'name': 'if`docker0`out_bytes', 'check_id': '235871'}\n"
     ]
    }
   ],
   "source": [
    "# Fetch some data from Circonus\n",
    "\n",
    "# genereate the timestamp from the beginning of this day:\n",
    "from datetime import datetime\n",
    "now = datetime.now()\n",
    "today = datetime(now.year, now.month, now.day, 0, 0).timestamp()\n",
    "\n",
    "# fetch the relevant metrics metrics\n",
    "df_mem = api.search_fetch_tsdf(\"(check_id:235871) (metric:vm`meminfo`*)\", today, 60, 60*24)\n",
    "df_cpu_idle = api.search_fetch_tsdf(\"(check_id:235871) (metric:cpu`idle)\", today, 60, 60*24)\n",
    "df_bytes_out = api.search_fetch_tsdf(\"(check_id:235871) (metric:if`*`out_bytes)\", today, 60, 60*24)"
   ]
  },
  {
   "cell_type": "markdown",
   "metadata": {},
   "source": [
    "### CPU Report"
   ]
  },
  {
   "cell_type": "code",
   "execution_count": 214,
   "metadata": {},
   "outputs": [],
   "source": [
    "# CPU Hours Calculation\n",
    "\n",
    "cpu_idle=(df_cpu_idle.diff()/60)            # calculate the cpu utilization from the raw metric data\n",
    "cpu_busy = 100 - cpu_idle                   # busy when not ilde\n",
    "cpu_busy_ratio = cpu_busy.mean()/100         # mean utilization over the day\n",
    "cpu_hours_used = float(24 * cpu_busy_ratio)  # cpu hours = 24h * cpu_busy_ratio"
   ]
  },
  {
   "cell_type": "code",
   "execution_count": 215,
   "metadata": {},
   "outputs": [
    {
     "name": "stdout",
     "output_type": "stream",
     "text": [
      "CPU Hours used:  0.26 / 24\n"
     ]
    }
   ],
   "source": [
    "# output as text\n",
    "print(\"CPU Hours used:  {:.2f} / 24\".format(cpu_hours_used))"
   ]
  },
  {
   "cell_type": "code",
   "execution_count": 216,
   "metadata": {},
   "outputs": [
    {
     "data": {
      "text/markdown": [
       "* CPU hours used 0.26 / 24"
      ],
      "text/plain": [
       "<IPython.core.display.Markdown object>"
      ]
     },
     "metadata": {},
     "output_type": "display_data"
    }
   ],
   "source": [
    "# We can generate markdown cell output as follow:\n",
    "from IPython.display import Markdown, display\n",
    "display(Markdown(\"* CPU hours used {:.2f} / 24\".format(cpu_hours_used)))"
   ]
  },
  {
   "cell_type": "markdown",
   "metadata": {},
   "source": [
    "### Network Report"
   ]
  },
  {
   "cell_type": "code",
   "execution_count": 217,
   "metadata": {},
   "outputs": [
    {
     "data": {
      "text/markdown": [
       "| Interface | Total Throughput in Mb |\n",
       "| --- | --- |\n",
       "| 235871/if`docker0`out_bytes | 93.4 | \n",
       "| 235871/if`eth0`out_bytes | 284.5 | \n",
       "| 235871/if`vethf86d566`out_bytes | nan | "
      ],
      "text/plain": [
       "<IPython.core.display.Markdown object>"
      ]
     },
     "metadata": {},
     "output_type": "display_data"
    }
   ],
   "source": [
    "# Total Network usage calculation:\n",
    "\n",
    "# df_bytes_out.diff() -> throughput in bytes each minute\n",
    "# df_bytes_out.diff().sum() -> total throughput (ignoring nan values)\n",
    "\n",
    "out = []\n",
    "out.append(\"| Interface | Total Throughput in Mb |\")\n",
    "out.append(\"| --- | --- |\")\n",
    "\n",
    "for k,v in df_bytes_out.diff().sum().items():\n",
    "    out.append(\"| {} | {:.1f} | \".format(k,v/1000000))\n",
    "\n",
    "display(Markdown(\"\\n\".join(out)))"
   ]
  },
  {
   "cell_type": "markdown",
   "metadata": {},
   "source": [
    "### Memory Report"
   ]
  },
  {
   "cell_type": "code",
   "execution_count": 218,
   "metadata": {},
   "outputs": [],
   "source": [
    "mem_used = df_mem['235871/vm`meminfo`MemTotal'] - df_mem['235871/vm`meminfo`MemFree']"
   ]
  },
  {
   "cell_type": "code",
   "execution_count": 219,
   "metadata": {},
   "outputs": [
    {
     "data": {
      "image/png": "[encoded data removed]",
      "text/plain": [
       "<matplotlib.figure.Figure at 0x7f8d899d7400>"
      ]
     },
     "metadata": {},
     "output_type": "display_data"
    }
   ],
   "source": [
    "# append a semi-colon to suppress output\n",
    "mem_used.plot(figsize=(20,5));"
   ]
  },
  {
   "cell_type": "markdown",
   "metadata": {},
   "source": [
    "# How to generate a report from here?\n",
    "\n",
    "1. Use the \"Hide All Input\" nb-extension to hide all input cells in the notebook\n",
    "2. Hit save\n",
    "3. Generate a report from the command line with:\n",
    "\n",
    "```\n",
    "jupyter-nbconvert --execute --template=nbextensions --to html ExampleReport.ipynb\n",
    "```\n",
    "\n",
    "PS: No you can not run this from a cell inside the report ; )"
   ]
  }
 ],
 "metadata": {
  "hide_input": true,
  "kernelspec": {
   "display_name": "Python 3",
   "language": "python",
   "name": "python3"
  },
  "language_info": {
   "codemirror_mode": {
    "name": "ipython",
    "version": 3
   },
   "file_extension": ".py",
   "mimetype": "text/x-python",
   "name": "python",
   "nbconvert_exporter": "python",
   "pygments_lexer": "ipython3",
   "version": "3.6.2"
  }
 },
 "nbformat": 4,
 "nbformat_minor": 2
}
