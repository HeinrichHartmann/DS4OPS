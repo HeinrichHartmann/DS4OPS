{
 "cells": [
  {
   "cell_type": "code",
   "execution_count": 1,
   "metadata": {
    "collapsed": true,
    "slideshow": {
     "slide_type": "skip"
    }
   },
   "outputs": [],
   "source": [
    "import math\n",
    "import numpy as np\n",
    "from matplotlib import pyplot as plt\n",
    "import seaborn as sns\n",
    "%matplotlib inline"
   ]
  },
  {
   "cell_type": "markdown",
   "metadata": {
    "slideshow": {
     "slide_type": "slide"
    }
   },
   "source": [
    "# Descriptive Statistics\n",
    "\n",
    "* Heinrich Hartmann / @heinrichhartman / heinrich.hartmann@circonus.com\n",
    "* 2017-09-01\n",
    "* SREConEurope 2017, Dublin, Ireland\n",
    "\n"
   ]
  },
  {
   "cell_type": "markdown",
   "metadata": {
    "nbpresent": {
     "id": "6d170ee1-0905-48d6-9874-c80e01fe9254"
    },
    "slideshow": {
     "slide_type": "slide"
    }
   },
   "source": [
    "# (1) Summary Statistics\n",
    "\n",
    "Problem statment:\n",
    "\n",
    "Given a dataset X:\n",
    "\n",
    "* Characterize the distribution in one or two values\n",
    "* Characterization should be robust, i.e. not severly affected by single outliers\n",
    "\n",
    "Equivalent of an elevator pitch for a data sets.\n"
   ]
  },
  {
   "cell_type": "markdown",
   "metadata": {
    "nbpresent": {
     "id": "e45021d3-f422-4831-9e82-69a390cdfe53"
    },
    "slideshow": {
     "slide_type": "slide"
    }
   },
   "source": [
    "## The Mean Value\n",
    "\n",
    "The _mean value_ of $X=[x_1, \\dots, x_n]$ is defined as\n",
    "\n",
    "$$ \\mu = mean(X) = \\frac{1}{n} \\sum_{i=1}^n x_i. $$\n",
    "\n",
    "- Represnets center of mass\n",
    "- If the values are close together this is a good representative\n",
    "- Can be easily affected by outliers"
   ]
  },
  {
   "cell_type": "code",
   "execution_count": 2,
   "metadata": {
    "collapsed": true,
    "slideshow": {
     "slide_type": "slide"
    }
   },
   "outputs": [],
   "source": [
    "# Computation of the mean value\n",
    "\n",
    "def mean(X):\n",
    "    return float(sum(X)) / len(X)"
   ]
  },
  {
   "cell_type": "markdown",
   "metadata": {
    "slideshow": {
     "slide_type": "slide"
    }
   },
   "source": [
    "## Medians\n",
    "\n",
    "A _median value_ for $x_1, \\dots, x_n$ is number $m$ such that\n",
    "  \n",
    " $$ \\# \\{ i \\,|\\, x_i \\lt m \\} = \\# \\{ i \\,|\\, x_i \\gt m \\}. $$\n",
    "\n",
    "So the number of samples smaller than $m$ is equal to the number of samples larger than $m$.\n",
    "(Both should be roughly $n/2$).\n",
    "  \n",
    "Remark:\n",
    "\n",
    "* A Median always exists\n",
    "* Median is not always unique\n",
    "* Very robust to outliers\n",
    "* Less \"precise\" then the mean for well behaved datasets"
   ]
  },
  {
   "cell_type": "markdown",
   "metadata": {
    "slideshow": {
     "slide_type": "slide"
    }
   },
   "source": [
    "# The central median\n",
    "\n",
    "Medians can be computed by sorting the dataset.\n",
    "\n",
    "`S = sorted(X)`\n",
    "\n",
    "Consider the following cases:\n",
    "\n",
    "- if `len(X)` is odd, then `S[(len(X)-1)/2]` is the (unique and) central median.\n",
    "- if `len(X)` is even, then all values between `S[len(X)/2-1]` and `S[len(X)/2]` are median values.  \n",
    "  The central median is defined as the mean of those two values.\n",
    "\n",
    "We write $median(X)$ for the central median of $X$.\n",
    "\n",
    "Example:\n",
    "* `median([1,2,3]) = 2`\n",
    "* `median([1,2]) = (1 + 2) / 2`"
   ]
  },
  {
   "cell_type": "code",
   "execution_count": 3,
   "metadata": {
    "collapsed": true,
    "slideshow": {
     "slide_type": "slide"
    }
   },
   "outputs": [],
   "source": [
    "# Computation of the median\n",
    "def median_range(X):\n",
    "    S = sorted(X)\n",
    "    n = len(X)\n",
    "    lower_mid = int(math.floor((n-1)/2.))\n",
    "    upper_mid = int(math.ceil((n-1)/2.))\n",
    "    return (S[lower_mid], S[upper_mid])\n",
    "\n",
    "def median(X):\n",
    "    a,b = median_range(X)\n",
    "    return (a+b)/2"
   ]
  },
  {
   "cell_type": "code",
   "execution_count": 4,
   "metadata": {
    "collapsed": true,
    "slideshow": {
     "slide_type": "skip"
    }
   },
   "outputs": [],
   "source": [
    "def plot_median_range(X):\n",
    "    plt.figure(figsize=(14,1))\n",
    "    a, b = median_range(X)\n",
    "    c = (a+b)/2.\n",
    "    sns.rugplot(X, color=\"green\", height=0.5)\n",
    "    plt.plot([a,a],[0.5,1],'r-')\n",
    "    plt.plot([b,b],[0.5,1],'r-')\n",
    "    plt.plot([c,c],[0.5,1],'r-')\n",
    "    plt.plot([a,b],[0.5,0.5],'r--')\n",
    "    plt.title(\"Median Range: {:.3f} .. {:,.3f}\".format(a,b))\n",
    "    plt.ylim([0,1])"
   ]
  },
  {
   "cell_type": "code",
   "execution_count": 5,
   "metadata": {
    "slideshow": {
     "slide_type": "slide"
    }
   },
   "outputs": [
    {
     "data": {
      "image/png": "[encoded data removed]",
      "text/plain": [
       "<matplotlib.figure.Figure at 0x7f5caf529b00>"
      ]
     },
     "metadata": {},
     "output_type": "display_data"
    }
   ],
   "source": [
    "plot_median_range([1,2,3])"
   ]
  },
  {
   "cell_type": "code",
   "execution_count": 6,
   "metadata": {
    "scrolled": false,
    "slideshow": {
     "slide_type": "slide"
    }
   },
   "outputs": [
    {
     "data": {
      "image/png": "[encoded data removed]",
      "text/plain": [
       "<matplotlib.figure.Figure at 0x7f5caf529a90>"
      ]
     },
     "metadata": {},
     "output_type": "display_data"
    }
   ],
   "source": [
    "plot_median_range([1,2,3,4])"
   ]
  },
  {
   "cell_type": "markdown",
   "metadata": {
    "slideshow": {
     "slide_type": "slide"
    }
   },
   "source": [
    "# Truncated Means\n",
    "\n",
    "* Truncated means \"interpolate\" between means and medianse.\n",
    "* In many cases they provid the increased \"precision\" of means, while keeping the robustnes against outliers.\n",
    "\n",
    "To arrive at the k-truncated mean of a dataset X, perform the following steps:\n",
    "* Remove a minimum and a maximum value from X, a total of k times.\n",
    "* The remaining samples are called the k-truncation of X and denoted by $T_k X$.\n",
    "* Caculate the mean value of the remaining samples.\n",
    "\n",
    "We deonte the k-truncated mean by `tmean(X,k)`."
   ]
  },
  {
   "cell_type": "code",
   "execution_count": 7,
   "metadata": {
    "collapsed": true,
    "slideshow": {
     "slide_type": "slide"
    }
   },
   "outputs": [],
   "source": [
    "def tmean(X,k):\n",
    "    X = list(X)\n",
    "    k = int(k)\n",
    "    if len(X) <= 2*k:\n",
    "        return None\n",
    "    for i in range(k):\n",
    "        X.remove(max(X))\n",
    "        X.remove(min(X))\n",
    "    return mean(X)"
   ]
  },
  {
   "cell_type": "code",
   "execution_count": 9,
   "metadata": {
    "scrolled": true,
    "slideshow": {
     "slide_type": "slide"
    }
   },
   "outputs": [
    {
     "name": "stdout",
     "output_type": "stream",
     "text": [
      "22.2\n",
      "3.3333333333333335\n",
      "3.0\n"
     ]
    }
   ],
   "source": [
    "# Truncated mean examples\n",
    "print(tmean([1,2,3,5,100],0))\n",
    "print(tmean([1,2,3,5,100],1))\n",
    "print(tmean([1,2,3,5,100],2))"
   ]
  },
  {
   "cell_type": "code",
   "execution_count": 11,
   "metadata": {
    "collapsed": true,
    "nbpresent": {
     "id": "150f1522-96cb-4ea6-ba08-e9a4acb9554c"
    },
    "slideshow": {
     "slide_type": "skip"
    }
   },
   "outputs": [],
   "source": [
    "# Plot\n",
    "def mark(m,height=1,style='r'):\n",
    "    plt.plot([m,m],[0,height],style)\n",
    "\n",
    "def plot_mean_median(X):\n",
    "    plt.figure(figsize=(14,1))\n",
    "    sns.rugplot(X, color='grey', height=0.5)\n",
    "    mark(mean(X));                     print(\"mean:        {:4.2f} (red)\".format(mean(X)))\n",
    "    k = int(math.ceil(10*len(X)/100.))\n",
    "    mark(tmean(X,k), style='b');       print(\"tmean(X,{:2}): {:4.2f} (blue)\".format(k,tmean(X,k)))\n",
    "    mark(median(X), style='g');        print(\"median:      {:4.2f} (green)\".format(median(X)))\n",
    "    plt.show()"
   ]
  },
  {
   "cell_type": "code",
   "execution_count": 12,
   "metadata": {
    "slideshow": {
     "slide_type": "slide"
    }
   },
   "outputs": [
    {
     "name": "stdout",
     "output_type": "stream",
     "text": [
      "mean:        0.07 (red)\n",
      "tmean(X,50): 0.06 (blue)\n",
      "median:      -0.02 (green)\n"
     ]
    },
    {
     "data": {
      "image/png": "[encoded data removed]",
      "text/plain": [
       "<matplotlib.figure.Figure at 0x7f5cabb03e80>"
      ]
     },
     "metadata": {},
     "output_type": "display_data"
    },
    {
     "name": "stdout",
     "output_type": "stream",
     "text": [
      "mean:        1316.31 (red)\n",
      "tmean(X, 8): 1315.61 (blue)\n",
      "median:      1399.66 (green)\n"
     ]
    },
    {
     "data": {
      "image/png": "[encoded data removed]",
      "text/plain": [
       "<matplotlib.figure.Figure at 0x7f5caf4d59b0>"
      ]
     },
     "metadata": {},
     "output_type": "display_data"
    },
    {
     "name": "stdout",
     "output_type": "stream",
     "text": [
      "mean:        45.77 (red)\n",
      "tmean(X,10): 30.52 (blue)\n",
      "median:      29.10 (green)\n"
     ]
    },
    {
     "data": {
      "image/png": "[encoded data removed]",
      "text/plain": [
       "<matplotlib.figure.Figure at 0x7f5cab0eb898>"
      ]
     },
     "metadata": {},
     "output_type": "display_data"
    }
   ],
   "source": [
    "# Normally distributed data\n",
    "Z = [ np.random.normal() for x in range(500) ]\n",
    "plot_mean_median(Z)\n",
    "\n",
    "# Mean value of some request rates\n",
    "X = np.loadtxt(\"DataSets/RequestRates.csv\", delimiter=\",\")[:,1]\n",
    "plot_mean_median(X)\n",
    "\n",
    "# Request Latency Dataset\n",
    "Y = np.genfromtxt(\"DataSets/WebLatency.csv\", delimiter=\",\")[:,2][0:500] - 85\n",
    "plot_mean_median(Y[0:100])"
   ]
  },
  {
   "cell_type": "code",
   "execution_count": 13,
   "metadata": {
    "scrolled": true,
    "slideshow": {
     "slide_type": "slide"
    }
   },
   "outputs": [
    {
     "name": "stdout",
     "output_type": "stream",
     "text": [
      "mean:        41.60 (red)\n",
      "tmean(X, 1): 35.00 (blue)\n",
      "median:      3.00 (green)\n"
     ]
    },
    {
     "data": {
      "image/png": "[encoded data removed]",
      "text/plain": [
       "<matplotlib.figure.Figure at 0x7f5cabbfd128>"
      ]
     },
     "metadata": {},
     "output_type": "display_data"
    }
   ],
   "source": [
    "# Mean values can be atypical\n",
    "plot_mean_median([1,2,3,100,102])"
   ]
  },
  {
   "cell_type": "markdown",
   "metadata": {
    "slideshow": {
     "slide_type": "slide"
    }
   },
   "source": [
    "# (2) Deviation Measures\n",
    "\n",
    "Goal measure \"typical\" deviation form a central value."
   ]
  },
  {
   "cell_type": "markdown",
   "metadata": {
    "slideshow": {
     "slide_type": "slide"
    }
   },
   "source": [
    "1. The _maximal deviation_ is defined as\n",
    "\n",
    "   $$ maxdev(X) = max \\{ |X[i] - \\mu| \\,|\\, i=1,\\dots,n\\}.$$\n",
    "\n",
    "2. The _mean absolute deviation_ is defined as\n",
    "   \n",
    "   $$ mad(X) = \\frac{1}{n} \\sum_{i=1}^n |X[i] - \\mu|.$$\n",
    "\n",
    "3. The _standard deviation_ is defined as\n",
    "\n",
    "   $$ \\sigma(X) = stddev(X) =  \\sqrt{\\frac{1}{n} \\sum_{i=1}^n (X[i] - \\mu)^2}.$$\n",
    "\n",
    "4. The _inter quartile range_ is defined as difference of the 75- and 25-Percentile:\n",
    "\n",
    "   $$ IQR(X) = P(75,X) - P(25,X) $$\n",
    "\n",
    "Properties:\n",
    "* Measure the 'typical' displacement from the mean value.\n",
    "* Standard deviation is popular because it has extremely nice mathematical properties.\n",
    "* The IQR is very robust to outliers."
   ]
  },
  {
   "cell_type": "code",
   "execution_count": 63,
   "metadata": {
    "collapsed": true,
    "slideshow": {
     "slide_type": "slide"
    }
   },
   "outputs": [],
   "source": [
    "def max_dev(X):\n",
    "    m = mean(X)\n",
    "    return max(abs(x - m) for x in X)\n",
    "\n",
    "def mad(X):\n",
    "    m = mean(X)\n",
    "    return sum(abs(x - m) for x in X) / float(len(X))\n",
    "\n",
    "def stddev(X):\n",
    "    m = mean(X)\n",
    "    return math.pow(sum((x - m)**2 for x in X) / len(X), 0.5)\n",
    "\n",
    "def IQR(X): return percentile(75,X) - percentile(0.25,X)\n",
    "\n",
    "# computation of percentiles is given below"
   ]
  },
  {
   "cell_type": "code",
   "execution_count": 64,
   "metadata": {
    "collapsed": true,
    "slideshow": {
     "slide_type": "skip"
    }
   },
   "outputs": [],
   "source": [
    "# Plotting helper function\n",
    "def plot_mean_dev(X, m, s, new_canvas=True):\n",
    "    print(\"center    = \", m)\n",
    "    print(\"deviation = \", s)\n",
    "    if new_canvas: plt.figure(figsize=(14,1))\n",
    "    sns.rugplot(X, color='grey', height=0.5)\n",
    "    plt.plot([m,m],[0,1],'r-' )\n",
    "    plt.plot([m-s,m-s],[0,1],'b-')\n",
    "    plt.plot([m+s,m+s],[0,1],'b-')\n",
    "    plt.plot([m-s,m+s],[0.5,0.5],'b--')\n",
    "    if new_canvas: plt.show()"
   ]
  },
  {
   "cell_type": "code",
   "execution_count": 65,
   "metadata": {
    "scrolled": false,
    "slideshow": {
     "slide_type": "slide"
    }
   },
   "outputs": [
    {
     "name": "stdout",
     "output_type": "stream",
     "text": [
      "Maximal deviation\n",
      "center    =  0.07213720245746086\n",
      "deviation =  3.021629123562713\n"
     ]
    },
    {
     "data": {
      "image/png": "[encoded data removed]",
      "text/plain": [
       "<matplotlib.figure.Figure at 0x7f5caacc18d0>"
      ]
     },
     "metadata": {},
     "output_type": "display_data"
    },
    {
     "name": "stdout",
     "output_type": "stream",
     "text": [
      "Standard Deviation\n",
      "center    =  0.07213720245746086\n",
      "deviation =  1.0595775620223\n"
     ]
    },
    {
     "data": {
      "image/png": "[encoded data removed]",
      "text/plain": [
       "<matplotlib.figure.Figure at 0x7f5caaaf19b0>"
      ]
     },
     "metadata": {},
     "output_type": "display_data"
    },
    {
     "name": "stdout",
     "output_type": "stream",
     "text": [
      "Mean Absolute Deviation\n",
      "center    =  0.07213720245746086\n",
      "deviation =  0.8422310359180026\n"
     ]
    },
    {
     "data": {
      "image/png": "[encoded data removed]",
      "text/plain": [
       "<matplotlib.figure.Figure at 0x7f5cab0e7dd8>"
      ]
     },
     "metadata": {},
     "output_type": "display_data"
    },
    {
     "name": "stdout",
     "output_type": "stream",
     "text": [
      "Median IQR\n",
      "center    =  -0.015214586986014082\n",
      "deviation =  1.7648272988759945\n"
     ]
    },
    {
     "data": {
      "image/png": "[encoded data removed]",
      "text/plain": [
       "<matplotlib.figure.Figure at 0x7f5ca9e9fc18>"
      ]
     },
     "metadata": {},
     "output_type": "display_data"
    }
   ],
   "source": [
    "# Standard deviation is a good deviation for normal distributed data\n",
    "\n",
    "print(\"Maximal deviation\")\n",
    "plot_mean_dev(Z,mean(Z),max_dev(Z))\n",
    "\n",
    "print(\"Standard Deviation\")\n",
    "plot_mean_dev(Z,mean(Z),stddev(Z))\n",
    "\n",
    "print(\"Mean Absolute Deviation\")\n",
    "plot_mean_dev(Z,mean(Z),mad(Z))\n",
    "\n",
    "print(\"Median IQR\")\n",
    "plot_mean_dev(Z,median(Z),IQR(Z)/2)"
   ]
  },
  {
   "cell_type": "code",
   "execution_count": 23,
   "metadata": {
    "scrolled": false,
    "slideshow": {
     "slide_type": "slide"
    }
   },
   "outputs": [
    {
     "name": "stdout",
     "output_type": "stream",
     "text": [
      "Maximal deviation\n",
      "center    =  1316.3086347078017\n",
      "deviation =  738.072957089\n"
     ]
    },
    {
     "data": {
      "image/png": "[encoded data removed]",
      "text/plain": [
       "<matplotlib.figure.Figure at 0x7f5cab586828>"
      ]
     },
     "metadata": {},
     "output_type": "display_data"
    },
    {
     "name": "stdout",
     "output_type": "stream",
     "text": [
      "Standard Deviation\n",
      "center    =  1316.3086347078017\n",
      "deviation =  374.5723639541368\n"
     ]
    },
    {
     "data": {
      "image/png": "[encoded data removed]",
      "text/plain": [
       "<matplotlib.figure.Figure at 0x7f5cab4f5e80>"
      ]
     },
     "metadata": {},
     "output_type": "display_data"
    },
    {
     "name": "stdout",
     "output_type": "stream",
     "text": [
      "Mean Absolute Deviation\n",
      "center    =  1316.3086347078017\n",
      "deviation =  327.4656915\n"
     ]
    },
    {
     "data": {
      "image/png": "[encoded data removed]",
      "text/plain": [
       "<matplotlib.figure.Figure at 0x7f5cabb50a20>"
      ]
     },
     "metadata": {},
     "output_type": "display_data"
    },
    {
     "name": "stdout",
     "output_type": "stream",
     "text": [
      "Mean Median IQR\n",
      "center    =  1399.66320801\n",
      "deviation =  452.709228516\n"
     ]
    },
    {
     "data": {
      "image/png": "[encoded data removed]",
      "text/plain": [
       "<matplotlib.figure.Figure at 0x7f5cabb50cf8>"
      ]
     },
     "metadata": {},
     "output_type": "display_data"
    }
   ],
   "source": [
    "X = np.loadtxt(\"DataSets/RequestRates.csv\", delimiter=\",\")[:,1]\n",
    "    \n",
    "print(\"Maximal deviation\")\n",
    "plot_mean_dev(X,mean(X),max_dev(X))\n",
    "\n",
    "print(\"Standard Deviation\")\n",
    "plot_mean_dev(X,mean(X),stddev(X))\n",
    "\n",
    "print(\"Mean Absolute Deviation\")\n",
    "plot_mean_dev(X,mean(X),mad(X))\n",
    "\n",
    "print(\"Mean Median IQR\")\n",
    "plot_mean_dev(X,median(X),IQR(X)/2)"
   ]
  },
  {
   "cell_type": "code",
   "execution_count": 66,
   "metadata": {
    "slideshow": {
     "slide_type": "slide"
    }
   },
   "outputs": [
    {
     "name": "stdout",
     "output_type": "stream",
     "text": [
      "Maximal deviation\n",
      "center    =  61.35899999999999\n",
      "deviation =  1161.641\n"
     ]
    },
    {
     "data": {
      "image/png": "[encoded data removed]",
      "text/plain": [
       "<matplotlib.figure.Figure at 0x7f5caa2412b0>"
      ]
     },
     "metadata": {},
     "output_type": "display_data"
    },
    {
     "name": "stdout",
     "output_type": "stream",
     "text": [
      "Standard Deviation\n",
      "center    =  61.35899999999999\n",
      "deviation =  133.49686932284217\n"
     ]
    },
    {
     "data": {
      "image/png": "[encoded data removed]",
      "text/plain": [
       "<matplotlib.figure.Figure at 0x7f5cab0fea20>"
      ]
     },
     "metadata": {},
     "output_type": "display_data"
    },
    {
     "name": "stdout",
     "output_type": "stream",
     "text": [
      "Mean Absolute Deviation\n",
      "center    =  61.35899999999999\n",
      "deviation =  59.90502\n"
     ]
    },
    {
     "data": {
      "image/png": "[encoded data removed]",
      "text/plain": [
       "<matplotlib.figure.Figure at 0x7f5cab5c2048>"
      ]
     },
     "metadata": {},
     "output_type": "display_data"
    },
    {
     "name": "stdout",
     "output_type": "stream",
     "text": [
      "Mean Median IQR\n",
      "center    =  27.2\n",
      "deviation =  10.4\n"
     ]
    },
    {
     "data": {
      "image/png": "[encoded data removed]",
      "text/plain": [
       "<matplotlib.figure.Figure at 0x7f5caa100f60>"
      ]
     },
     "metadata": {},
     "output_type": "display_data"
    }
   ],
   "source": [
    "print(\"Maximal deviation\")\n",
    "plot_mean_dev(Y,mean(Y),max_dev(Y))\n",
    "\n",
    "print(\"Standard Deviation\")\n",
    "plot_mean_dev(Y,mean(Y),stddev(Y))\n",
    "\n",
    "print(\"Mean Absolute Deviation\")\n",
    "plot_mean_dev(Y,mean(Y),mad(Y))\n",
    "\n",
    "print(\"Mean Median IQR\")\n",
    "plot_mean_dev(Y,median(Y),IQR(Y)/2)"
   ]
  },
  {
   "cell_type": "markdown",
   "metadata": {
    "collapsed": true,
    "slideshow": {
     "slide_type": "slide"
    }
   },
   "source": [
    "## Caution with Standard Deviation\n",
    "\n",
    "- Everybody Learns about standard deviation in school\n",
    "- Beautiful mathematical properties!\n",
    "- Everybody knows \n",
    "  - \"68% of data falls within 1 std-dev of the mean\"\n",
    "  - \"95% falls within 2 std-dev of the mean\"\n",
    "  - \"99.7\" falls within 3 std-dev of the mean\"\n",
    "* \"Problem is: this is utter nonsense\". Only true for normally distributed data.\n",
    "\n",
    "* Not good for measuring outliers!\n",
    "\n",
    "\n",
    "_Source:_ Janert - Data Analysis with Open Source Tools"
   ]
  },
  {
   "cell_type": "markdown",
   "metadata": {
    "slideshow": {
     "slide_type": "slide"
    }
   },
   "source": [
    "## War Story:\n",
    "\n",
    "- Looking at SLA for DB response times\n",
    "- Outlier defined as value larger than $\\mu + 3\\sigma$\n",
    "- Look at code: Takes '0.3' percentile!\n",
    "- So always have outliers.\n",
    "- And 0.3-percentile was way too large (hours of latency).\n",
    "- Programmer changed code for 1%, 5%, 10% quantiles.\n",
    "- Finally handcoded a threshold\n",
    "- The SLA was never changed\n",
    "\n",
    "Source: Janert - Data Analysis with Open Source Tools"
   ]
  },
  {
   "cell_type": "markdown",
   "metadata": {
    "slideshow": {
     "slide_type": "slide"
    }
   },
   "source": [
    "# Tukey's outlier Definition\n",
    "\n",
    "A k-outlier is a data point X which is either\n",
    "\n",
    "* larger than `P(75) + k * IQR(X)` or\n",
    "* smaller than `P(25) - k * IQR(X)`.\n",
    "\n",
    "An outlier (without k) is an 1.5-outlier."
   ]
  },
  {
   "cell_type": "code",
   "execution_count": 25,
   "metadata": {
    "collapsed": true,
    "slideshow": {
     "slide_type": "slide"
    }
   },
   "outputs": [],
   "source": [
    "def outliers(X, k=1.5):\n",
    "    iqr = IQR(X)\n",
    "    lower_bound = percentile(25,X) - k * iqr\n",
    "    upper_bound = percentile(75,X) + k * iqr\n",
    "    out = []\n",
    "    for x in X:\n",
    "        if x < lower_bound: out.append(x)\n",
    "        if x > upper_bound: out.append(x)\n",
    "    return out"
   ]
  },
  {
   "cell_type": "code",
   "execution_count": 27,
   "metadata": {
    "collapsed": true,
    "slideshow": {
     "slide_type": "skip"
    }
   },
   "outputs": [],
   "source": [
    "def outlier_plot(X):\n",
    "    plt.figure(figsize=(14,2))\n",
    "    sns.rugplot(X, color=\"green\", height=0.5)\n",
    "    a,b = percentile(25,X), percentile(75,X)\n",
    "    O = outliers(X)\n",
    "    print(\"IQR:\", b-a)\n",
    "    print(\"Outlier count:\", len(O))\n",
    "    mark_range(a,b)\n",
    "    for o in O:\n",
    "        plt.plot([o,o],[0.7,0.8],'b--')\n",
    "    plt.ylim([0,1])"
   ]
  },
  {
   "cell_type": "code",
   "execution_count": 35,
   "metadata": {
    "scrolled": true,
    "slideshow": {
     "slide_type": "slide"
    }
   },
   "outputs": [
    {
     "name": "stdout",
     "output_type": "stream",
     "text": [
      "IQR: 1.3889625559552572\n",
      "Outlier count: 0\n"
     ]
    },
    {
     "data": {
      "image/png": "[encoded data removed]",
      "text/plain": [
       "<matplotlib.figure.Figure at 0x7f5cab6900f0>"
      ]
     },
     "metadata": {},
     "output_type": "display_data"
    }
   ],
   "source": [
    "# Normal Data\n",
    "outlier_plot(Z)"
   ]
  },
  {
   "cell_type": "code",
   "execution_count": 36,
   "metadata": {
    "scrolled": false,
    "slideshow": {
     "slide_type": "slide"
    }
   },
   "outputs": [
    {
     "name": "stdout",
     "output_type": "stream",
     "text": [
      "IQR: 725.891693115\n",
      "Outlier count: 0\n"
     ]
    },
    {
     "data": {
      "image/png": "[encoded data removed]",
      "text/plain": [
       "<matplotlib.figure.Figure at 0x7f5cab089630>"
      ]
     },
     "metadata": {},
     "output_type": "display_data"
    }
   ],
   "source": [
    "# Web request Rates\n",
    "outlier_plot(X)"
   ]
  },
  {
   "cell_type": "code",
   "execution_count": 37,
   "metadata": {
    "scrolled": true,
    "slideshow": {
     "slide_type": "slide"
    }
   },
   "outputs": [
    {
     "name": "stdout",
     "output_type": "stream",
     "text": [
      "IQR: 9.0\n",
      "Outlier count: 43\n"
     ]
    },
    {
     "data": {
      "image/png": "[encoded data removed]",
      "text/plain": [
       "<matplotlib.figure.Figure at 0x7f5cab0890b8>"
      ]
     },
     "metadata": {},
     "output_type": "display_data"
    }
   ],
   "source": [
    "# Request Latencies\n",
    "outlier_plot(Y)"
   ]
  },
  {
   "cell_type": "markdown",
   "metadata": {
    "slideshow": {
     "slide_type": "slide"
    }
   },
   "source": [
    "# Tukey's Boxplots\n",
    "\n",
    "Show:\n",
    "\n",
    "* Median\n",
    "* Box around 0.25 and 0.75 Quantiles\n",
    "* \"whiskers\" from min to max\n",
    "* points for outliers\n",
    "\n",
    "Allows visual clues:\n",
    "\n",
    "* Where is the data concentracted?\n",
    "* How far is it spread?\n",
    "* How skew is the data?"
   ]
  },
  {
   "cell_type": "code",
   "execution_count": 38,
   "metadata": {
    "slideshow": {
     "slide_type": "slide"
    }
   },
   "outputs": [
    {
     "name": "stderr",
     "output_type": "stream",
     "text": [
      "/opt/conda/lib/python3.6/site-packages/seaborn/categorical.py:2171: UserWarning: The boxplot API has been changed. Attempting to adjust your arguments for the new API (which might not work). Please update your code. See the version 0.6 release notes for more info.\n",
      "  warnings.warn(msg, UserWarning)\n"
     ]
    },
    {
     "data": {
      "image/png": "[encoded data removed]",
      "text/plain": [
       "<matplotlib.figure.Figure at 0x7f5cab7fc710>"
      ]
     },
     "metadata": {},
     "output_type": "display_data"
    }
   ],
   "source": [
    "# Normal Data\n",
    "plt.figure(figsize=(15,1))\n",
    "sns.boxplot(x=Z, vert=False)\n",
    "sns.rugplot(Z)\n",
    "plt.show()"
   ]
  },
  {
   "cell_type": "code",
   "execution_count": 39,
   "metadata": {
    "slideshow": {
     "slide_type": "slide"
    }
   },
   "outputs": [
    {
     "data": {
      "image/png": "[encoded data removed]",
      "text/plain": [
       "<matplotlib.figure.Figure at 0x7f5caafa33c8>"
      ]
     },
     "metadata": {},
     "output_type": "display_data"
    }
   ],
   "source": [
    "# Tukey Boxplots show outliers as 'points' outside the whiskers\n",
    "\n",
    "# Web-request dataset\n",
    "plt.figure(figsize=(15,1))\n",
    "sns.boxplot(x=X)\n",
    "sns.rugplot(X)\n",
    "plt.show()"
   ]
  },
  {
   "cell_type": "code",
   "execution_count": 40,
   "metadata": {
    "slideshow": {
     "slide_type": "slide"
    }
   },
   "outputs": [
    {
     "name": "stderr",
     "output_type": "stream",
     "text": [
      "/opt/conda/lib/python3.6/site-packages/seaborn/categorical.py:2171: UserWarning: The boxplot API has been changed. Attempting to adjust your arguments for the new API (which might not work). Please update your code. See the version 0.6 release notes for more info.\n",
      "  warnings.warn(msg, UserWarning)\n"
     ]
    },
    {
     "data": {
      "image/png": "[encoded data removed]",
      "text/plain": [
       "<matplotlib.figure.Figure at 0x7f5cab43bcc0>"
      ]
     },
     "metadata": {},
     "output_type": "display_data"
    }
   ],
   "source": [
    "# Latency Dataset\n",
    "plt.figure(figsize=(15,1))\n",
    "sns.boxplot(x=Y, vert=False)\n",
    "sns.rugplot(Y)\n",
    "plt.show()"
   ]
  },
  {
   "cell_type": "markdown",
   "metadata": {
    "slideshow": {
     "slide_type": "slide"
    }
   },
   "source": [
    "Demo:\n",
    "- Global duration percentiles with Overlays: [demo](https://demo-hh2.circonus.com/trending/graphs/view/9e85beb8-4658-49f5-95e8-b6cf70ad5ca9#set-YVlpVTrN)\n",
    "- Latency percentiles in CAQL [demo](https://demo-hh2.circonus.com/trending/graphs/edit/da4ac22a-55b9-6145-abbc-a0371919e876)"
   ]
  },
  {
   "cell_type": "markdown",
   "metadata": {
    "slideshow": {
     "slide_type": "slide"
    }
   },
   "source": [
    "# Outlier Scores\n",
    "\n",
    "The intuitive meaning of outlier is a value in a dataset, that is \"unlikely\" to be generated by the same process as the rest of the distribution.\n",
    "\n",
    "A simple outlier score:\n",
    "\n",
    "* Pick a summary statistic $M$: E.g. mean\n",
    "* Pick a deviation measure $D$: E.g. MAD\n",
    "\n",
    "The outlier score of a value $x$ in context $X$ is defined as:\n",
    "\n",
    "$$OutlierScore(X,y) = \\frac{M(X) - y}{S(X)}$$\n",
    "\n",
    "It measures how many deviations a sample is away from the mean.\n",
    "\n",
    "* Good for well behaved datasets with a single mode\n",
    "* Problematic for skew distributions\n",
    "* Easy to use in practice"
   ]
  },
  {
   "cell_type": "markdown",
   "metadata": {
    "slideshow": {
     "slide_type": "slide"
    }
   },
   "source": [
    "Demo:\n",
    "- Outlier Detection in Time Series https://demo-hh2.circonus.com/trending/graphs/view/c7602466-69f4-e6b3-ceae-95049da417c4\n",
    "- Time range: August 30th - September 7th 2015"
   ]
  },
  {
   "cell_type": "markdown",
   "metadata": {
    "slideshow": {
     "slide_type": "slide"
    }
   },
   "source": [
    "## Takeaway\n",
    "\n",
    "* Don't use the standard-deviation if you can avoid it\n",
    "* If you need a deviation measure use MAD or IQR:\n",
    "  - (+) Simple to calculate\n",
    "  - (+) Simple to interpret\n",
    "  - (-) Not mergable"
   ]
  },
  {
   "cell_type": "markdown",
   "metadata": {
    "slideshow": {
     "slide_type": "slide"
    }
   },
   "source": [
    "# (3) Measuring Distributions"
   ]
  },
  {
   "cell_type": "markdown",
   "metadata": {},
   "source": [
    "* Classical summary statistics good for describing the body of the distribution\n",
    "* Need information about the tail of the distributions, e.g. for writing good SLAs\n",
    "* Determine outliers in a dataset"
   ]
  },
  {
   "cell_type": "markdown",
   "metadata": {
    "slideshow": {
     "slide_type": "slide"
    }
   },
   "source": [
    "## Inverse Percentiles\n",
    "\n",
    "The inverse percentile y of a dataset $X$, is defined as:\n",
    "\n",
    "$$ IP(y, X) = \\text{(the percentage of samples in X that are lower than $y$)} = \\# \\{ i \\, | \\, x_i \\leq y \\} / \\# X \\cdot 100 $$\n",
    "\n",
    "**Properties**\n",
    "\n",
    "* $0 \\leq IP(y, X) \\leq 100$, dimensionless percentage value\n",
    "* $IP(y,X)$ is monotonically increasing in $y$"
   ]
  },
  {
   "cell_type": "code",
   "execution_count": null,
   "metadata": {
    "collapsed": true,
    "slideshow": {
     "slide_type": "slide"
    }
   },
   "outputs": [],
   "source": [
    "def IP(y,X):\n",
    "    lower_count = 0\n",
    "    for x in X:\n",
    "        if x <= y: lower_count += 1\n",
    "    return float(lower_count) / len(X)"
   ]
  },
  {
   "cell_type": "code",
   "execution_count": null,
   "metadata": {
    "collapsed": true,
    "slideshow": {
     "slide_type": "slide"
    }
   },
   "outputs": [],
   "source": [
    "# Example\n",
    "import matplotlib as mpl\n",
    "mpl.rcParams['figure.figsize'] = (15,5)\n",
    "X = np.loadtxt(\"DataSets/RequestRates.csv\", delimiter=\",\")[:,1]\n",
    "\n",
    "grid = np.linspace(0,3000,100)\n",
    "plt.figure(figsize=(20,5))\n",
    "plt.plot(grid, [IP(y,X) for y in grid])\n",
    "plt.title(\"Inverse Percentiles\")\n",
    "sns.rugplot(X)"
   ]
  },
  {
   "cell_type": "markdown",
   "metadata": {
    "slideshow": {
     "slide_type": "slide"
    }
   },
   "source": [
    "# Percentiles\n",
    "\n",
    "* Complement or Inverse to Inverse Percentiles:\n",
    "  - IP: The ratio of samples was below a value $y$ was $?\\%$\n",
    "  - Percentile: 90% of all queries where faster than $?$\n",
    "\n",
    "* The definition is a little involved so cover examples first\n",
    "\n",
    "Examples:\n",
    "\n",
    "* The minimum is a 0%-percentile\n",
    "* A median is a 50%-percentile\n",
    "* The maximum is a 100%-percentile\n",
    "* Quartiles: $0,25,50,75,100$-percentiles\n",
    "* Quantiles: The $r$-quantile is the $r*100$-percentile $0<r<1$."
   ]
  },
  {
   "cell_type": "markdown",
   "metadata": {},
   "source": [
    "# General Definition of Percentiles\n",
    "\n",
    "Pick a number $0\\leq p \\leq 100$. A $p$%-percentile for $X$ is a value $y$ such that,\n",
    "\n",
    "$$ \\#\\{i \\,|\\, X[i] \\lt y \\} \\leq \\frac{p}{100} \\cdot n $$\n",
    "\n",
    "and\n",
    "\n",
    "$$ \\#\\{i \\,|\\, X[i] \\gt y \\} \\leq \\frac{100-p}{100} \\cdot n $$\n",
    "\n",
    "Roughly speaking, $y$ divides $X$ in $p\\%$ samples that are lower than $y$ and $(100-p)\\%$ samples that are larger than $y$."
   ]
  },
  {
   "cell_type": "markdown",
   "metadata": {
    "slideshow": {
     "slide_type": "slide"
    }
   },
   "source": [
    "Remarks:\n",
    "\n",
    "* Quantiles always exists\n",
    "* Non unique (like median)\n",
    "* Lot's of ways to choose a quantile function, i.e. interpolate between $s_a$ and $s_b$ cf.  \n",
    "  http://en.wikipedia.org/wiki/Quantile#Estimating_the_quantiles_of_a_population"
   ]
  },
  {
   "cell_type": "code",
   "execution_count": 41,
   "metadata": {
    "collapsed": true,
    "slideshow": {
     "slide_type": "slide"
    }
   },
   "outputs": [],
   "source": [
    "# Computation of Quantiles\n",
    "def percentile_range(p,X):\n",
    "    q = p/100.0\n",
    "    S = sorted(X)\n",
    "    n = len(X)\n",
    "    upper_d = int(math.ceil(q * (n + 1)))\n",
    "    lower_d = int(math.floor(q * (n + 1)))\n",
    "    # edge cases\n",
    "    if upper_d == 0:   upper_d = 1\n",
    "    if upper_d == n+1: upper_d = n\n",
    "    if lower_d == 0:   lower_d = 1\n",
    "    if lower_d == n+1: lower_d = n\n",
    "    return (S[lower_d-1], S[upper_d-1])\n",
    "\n",
    "def percentile(p,X):\n",
    "    a,b = percentile_range(p,X)\n",
    "    return (a+b)/2 # mid point percentile. One choice!"
   ]
  },
  {
   "cell_type": "code",
   "execution_count": 42,
   "metadata": {
    "collapsed": true,
    "slideshow": {
     "slide_type": "skip"
    }
   },
   "outputs": [],
   "source": [
    "def mark_range(a,b):\n",
    "    plt.plot([a,a],[0.5,1],'r-')\n",
    "    plt.plot([b,b],[0.5,1],'r-')\n",
    "    plt.plot([a,b],[0.75,0.75],'r--')\n",
    "\n",
    "def plot_percentile_range(p,X):\n",
    "    plt.figure(figsize=(14,2))\n",
    "    sns.rugplot(X, color=\"green\", height=0.5)\n",
    "    a,b = percentile_range(p,X)\n",
    "    mark_range(a,b)\n",
    "    plt.title(\"{:n}%-Percentile Range: {:.3f} .. {:,.3f}\".format(p, a,b))\n",
    "    plt.ylim([0,1])"
   ]
  },
  {
   "cell_type": "code",
   "execution_count": 43,
   "metadata": {
    "slideshow": {
     "slide_type": "slide"
    }
   },
   "outputs": [
    {
     "data": {
      "image/png": "[encoded data removed]",
      "text/plain": [
       "<matplotlib.figure.Figure at 0x7f5cabaa2390>"
      ]
     },
     "metadata": {},
     "output_type": "display_data"
    }
   ],
   "source": [
    "plot_percentile_range(50,[1,2,3,4])"
   ]
  },
  {
   "cell_type": "code",
   "execution_count": 44,
   "metadata": {
    "slideshow": {
     "slide_type": "slide"
    }
   },
   "outputs": [
    {
     "data": {
      "image/png": "[encoded data removed]",
      "text/plain": [
       "<matplotlib.figure.Figure at 0x7f5cab1c84e0>"
      ]
     },
     "metadata": {},
     "output_type": "display_data"
    }
   ],
   "source": [
    "plot_percentile_range(40,[1,2,3,4])"
   ]
  },
  {
   "cell_type": "code",
   "execution_count": 45,
   "metadata": {
    "slideshow": {
     "slide_type": "slide"
    }
   },
   "outputs": [
    {
     "data": {
      "image/png": "[encoded data removed]",
      "text/plain": [
       "<matplotlib.figure.Figure at 0x7f5cabc116d8>"
      ]
     },
     "metadata": {},
     "output_type": "display_data"
    }
   ],
   "source": [
    "plot_percentile_range(90,X)"
   ]
  },
  {
   "cell_type": "markdown",
   "metadata": {
    "slideshow": {
     "slide_type": "slide"
    }
   },
   "source": [
    "# (4) Histograms\n",
    "\n",
    "* Basic Idea: Use area to compare sample ratios, instead of point counts\n",
    "* Easier to answer questios like: \"How many voters are older than 30, when presented with a histogram, than a table or a rugplot.\"\n",
    "* Both a visualization method and a data-storage format"
   ]
  },
  {
   "cell_type": "markdown",
   "metadata": {
    "slideshow": {
     "slide_type": "slide"
    }
   },
   "source": [
    "# Building your own Histogram\n",
    "\n",
    "1. Define value range of histogram `bin_min`, `bin_max`\n",
    "2. Divide range into bins `bin[k], ..., bin[k]`\n",
    "3. The bins may have variying width \n",
    "4. Count the number of samples in each bin `sample_count[k]`\n",
    "5. Draw a rectangle for each bin with height:\n",
    "   - `h[k] = sample_count[k]` -- non normalized \n",
    "   - `h[k] = sample_count[k] / bin_width[k]` -- normalized case"
   ]
  },
  {
   "cell_type": "code",
   "execution_count": 48,
   "metadata": {
    "slideshow": {
     "slide_type": "slide"
    }
   },
   "outputs": [
    {
     "name": "stdout",
     "output_type": "stream",
     "text": [
      "Bins:  [[500, 700], [700, 800], [800, 900], [900, 1000], [1000, 1500], [1500, 1800], [1800, 2000], [2000, 2200]]\n"
     ]
    }
   ],
   "source": [
    "import numpy as np\n",
    "X = np.loadtxt(\"DataSets/RequestRates.csv\", delimiter=\",\")[:,1]\n",
    "\n",
    "# Step 1: Represent bins via list of left-edges\n",
    "bin_left = [\n",
    "    500, 700, 800, 900, 1000, 1500, 1800, 2000, 2200\n",
    "]\n",
    "\n",
    "bin_min = bin_left[0]\n",
    "bin_max = bin_left[-1]\n",
    "bins = [ [bin_left[i-1],bin_left[i]] for i in range(1, len(bin_left)) ]\n",
    "\n",
    "print(\"Bins: \", bins)"
   ]
  },
  {
   "cell_type": "code",
   "execution_count": 49,
   "metadata": {
    "slideshow": {
     "slide_type": "slide"
    }
   },
   "outputs": [
    {
     "name": "stdout",
     "output_type": "stream",
     "text": [
      "Counts: [0, 10, 8, 4, 25, 23, 4, 2]\n"
     ]
    }
   ],
   "source": [
    "# Step2: Count number of samples in bins\n",
    "def count(X, bins):\n",
    "    def findBin(x, bins):\n",
    "        for i, bin in enumerate(bins):\n",
    "            left, right = bin\n",
    "            if left <= x and x < right:\n",
    "                return i\n",
    "        return None\n",
    "    \n",
    "    count = [0] * len(bins)\n",
    "    for x in X:\n",
    "        i = findBin(x, bins)\n",
    "        if i != None:\n",
    "            count[i] += 1\n",
    "\n",
    "    return count\n",
    "\n",
    "sample_count = count(X, bins)\n",
    "\n",
    "print(\"Counts:\", sample_count)"
   ]
  },
  {
   "cell_type": "code",
   "execution_count": 50,
   "metadata": {
    "slideshow": {
     "slide_type": "slide"
    }
   },
   "outputs": [
    {
     "data": {
      "image/png": "[encoded data removed]",
      "text/plain": [
       "<matplotlib.figure.Figure at 0x7f5cbbcce240>"
      ]
     },
     "metadata": {},
     "output_type": "display_data"
    }
   ],
   "source": [
    "from matplotlib import pyplot as plt\n",
    "import seaborn as sns\n",
    "\n",
    "%matplotlib inline\n",
    "\n",
    "# Step3: Plot bar chart\n",
    "def my_hist(X, bins, normed=True, **kwargs):\n",
    "    bin_left = [ l for l, r in bins ]\n",
    "    bin_width = [ r-l  for l,r in bins ]\n",
    "    bin_height = [ \n",
    "        float(c) / w if normed else c \n",
    "        for c,w in zip(count(X, bins), bin_width)\n",
    "    ]\n",
    "    plt.bar(bin_left,width=bin_width,height=bin_height, **kwargs)\n",
    "\n",
    "plt.figure(figsize=(15,5))\n",
    "my_hist(X,bins)"
   ]
  },
  {
   "cell_type": "code",
   "execution_count": 52,
   "metadata": {
    "collapsed": true,
    "slideshow": {
     "slide_type": "slide"
    }
   },
   "outputs": [],
   "source": [
    "def plot_hist(X,  bin_min, bin_max, bin_width):\n",
    "    plt.figure(figsize=(15,5))\n",
    "    bins =[ [i, i+bin_width] for i in np.arange(bin_min, bin_max, bin_width) ]\n",
    "    my_hist(X,bins)\n",
    "    print(\"Histogram with bin_width \", bin_width)\n",
    "    plt.show()"
   ]
  },
  {
   "cell_type": "markdown",
   "metadata": {
    "slideshow": {
     "slide_type": "slide"
    }
   },
   "source": [
    "## How bin choices affect the apperance"
   ]
  },
  {
   "cell_type": "code",
   "execution_count": 53,
   "metadata": {
    "slideshow": {
     "slide_type": "slide"
    }
   },
   "outputs": [
    {
     "name": "stdout",
     "output_type": "stream",
     "text": [
      "Histogram with bin_width  5\n"
     ]
    },
    {
     "data": {
      "image/png": "[encoded data removed]",
      "text/plain": [
       "<matplotlib.figure.Figure at 0x7f5caa9e2cf8>"
      ]
     },
     "metadata": {},
     "output_type": "display_data"
    }
   ],
   "source": [
    "bin_min = 600\n",
    "bin_max = 2200\n",
    "plot_hist(X, bin_min, bin_max, 5)"
   ]
  },
  {
   "cell_type": "code",
   "execution_count": 54,
   "metadata": {
    "slideshow": {
     "slide_type": "slide"
    }
   },
   "outputs": [
    {
     "name": "stdout",
     "output_type": "stream",
     "text": [
      "Histogram with bin_width  50\n"
     ]
    },
    {
     "data": {
      "image/png": "[encoded data removed]",
      "text/plain": [
       "<matplotlib.figure.Figure at 0x7f5cabb10a20>"
      ]
     },
     "metadata": {},
     "output_type": "display_data"
    }
   ],
   "source": [
    "plot_hist(X, bin_min, bin_max, 50)"
   ]
  },
  {
   "cell_type": "code",
   "execution_count": 55,
   "metadata": {
    "slideshow": {
     "slide_type": "slide"
    }
   },
   "outputs": [
    {
     "name": "stdout",
     "output_type": "stream",
     "text": [
      "Histogram with bin_width  2000\n"
     ]
    },
    {
     "data": {
      "image/png": "[encoded data removed]",
      "text/plain": [
       "<matplotlib.figure.Figure at 0x7f5cab9a8dd8>"
      ]
     },
     "metadata": {},
     "output_type": "display_data"
    }
   ],
   "source": [
    "plot_hist(X, bin_min, bin_max, 2000)\n",
    "# -> Only the total count is displayed"
   ]
  },
  {
   "cell_type": "markdown",
   "metadata": {
    "slideshow": {
     "slide_type": "slide"
    }
   },
   "source": [
    "## Common bin-width choices\n",
    "\n",
    "Remarks:\n",
    "* Can convert `bin_count` and `bin_width` using relation $$ bin\\_max - bin\\_min = bin\\_count \\cdot bin\\_width.$$\n",
    "\n",
    "* Choices `bin_min=min(X)` and `bin_max=max(X)` are common. But: dependence on input data.\n",
    "\n",
    "Choices for bin-width:\n",
    "\n",
    "* Excel: Let $n$ be the number of samples, then:\n",
    "\n",
    "  $$ bin\\_count = \\sqrt{n} $$\n",
    "\n",
    "* Scott's normal reference rule\n",
    "\n",
    "  $$ bin\\_width = \\frac{3.5 \\sigma}{n^{1/3}} $$\n",
    "\n",
    "  where $\\sigma$ is the standard deviation (cf. later).\n",
    "  This is optimal for random samples of normally distributed data, in a certain sense.\n",
    "\n",
    "* Freedman–Diaconis rule\n",
    "\n",
    "  $$ bin\\_width = \\frac{2 IQR}{n^{1/3}} $$\n",
    "  \n",
    "  where IQR is the inter-quartile range (cf. later). Like Scott's rule but more robust agains outliers.\n",
    "\n"
   ]
  },
  {
   "cell_type": "markdown",
   "metadata": {
    "slideshow": {
     "slide_type": "slide"
    }
   },
   "source": [
    "# A pragmatic choice: HDR Histograms\n",
    "\n",
    "Example: A decimal HDR Histogram with precision=2 has bin boundaries:\n",
    "  \n",
    "    .... 1.0,  1.1,  1.2, ... 1.9,  2.0,  2.1, ...., 9.9; --- bin width = 0.1\n",
    "         10.0, 11.0, 12.0 ... 19.0, 20.0, 21.0 ...., 99 ; --- bin width = 1\n",
    "         ...\n",
    "\n",
    "** Properties: **\n",
    "* Captures large part of float range\n",
    "* Bin boundaries do not depend on data! -> Can aggregate counts!\n",
    "* Bin width increase with growing values\n",
    "* Allows compact memory representation\n",
    "* Implementation available at http://hdrhistogram.org/"
   ]
  },
  {
   "cell_type": "code",
   "execution_count": 56,
   "metadata": {
    "collapsed": true,
    "slideshow": {
     "slide_type": "slide"
    }
   },
   "outputs": [],
   "source": [
    "import math\n",
    "def HDR_bin_width(x):\n",
    "    if x == 0: return 0\n",
    "    sign = x / abs(x)\n",
    "    return sign * 10 ** ( math.floor(math.log10(abs(x)) - 1 ) )\n",
    "\n",
    "def HDR_bin_left(x):\n",
    "    w = HDR_bin_width(x)\n",
    "    if w == 0: return 0\n",
    "    return math.floor(x / w) * w\n",
    "\n",
    "def HRD_bin_right(x):\n",
    "    return bin_left(x) + bin_width(x)"
   ]
  },
  {
   "cell_type": "code",
   "execution_count": 57,
   "metadata": {
    "collapsed": true,
    "slideshow": {
     "slide_type": "slide"
    }
   },
   "outputs": [],
   "source": [
    "def HDR_hist(X):\n",
    "    count = {}\n",
    "    for x in X:\n",
    "        l = HDR_bin_left(x)\n",
    "        count[l] = count.get(l,0) + 1\n",
    "    bin_left = sorted(count.keys())\n",
    "    bin_width = [ HDR_bin_width(l) for l in bin_left ]\n",
    "    bin_height = [ abs(count[l] / HDR_bin_width(l))\n",
    "        for l in bin_left\n",
    "    ]\n",
    "    plt.figure(figsize=(15,5))\n",
    "    plt.bar(bin_left,width=bin_width,height=bin_height)"
   ]
  },
  {
   "cell_type": "code",
   "execution_count": 58,
   "metadata": {
    "slideshow": {
     "slide_type": "slide"
    }
   },
   "outputs": [
    {
     "data": {
      "text/plain": [
       "<matplotlib.axes._subplots.AxesSubplot at 0x7f5cab8cf748>"
      ]
     },
     "execution_count": 58,
     "metadata": {},
     "output_type": "execute_result"
    },
    {
     "data": {
      "image/png": "[encoded data removed]",
      "text/plain": [
       "<matplotlib.figure.Figure at 0x7f5caba74c50>"
      ]
     },
     "metadata": {},
     "output_type": "display_data"
    }
   ],
   "source": [
    "Y = np.genfromtxt(\"DataSets/WebLatency.csv\", delimiter=\",\")[:,2][:200] - 85\n",
    "HDR_hist(Y)\n",
    "sns.rugplot(Y, color=\"red\")"
   ]
  },
  {
   "cell_type": "code",
   "execution_count": 59,
   "metadata": {
    "slideshow": {
     "slide_type": "slide"
    }
   },
   "outputs": [
    {
     "data": {
      "text/plain": [
       "<matplotlib.axes._subplots.AxesSubplot at 0x7f5cab27ee80>"
      ]
     },
     "execution_count": 59,
     "metadata": {},
     "output_type": "execute_result"
    },
    {
     "data": {
      "image/png": "[encoded data removed]",
      "text/plain": [
       "<matplotlib.figure.Figure at 0x7f5cab73b3c8>"
      ]
     },
     "metadata": {},
     "output_type": "display_data"
    }
   ],
   "source": [
    "HDR_hist(X)\n",
    "sns.rugplot(X, color=\"red\")"
   ]
  },
  {
   "cell_type": "code",
   "execution_count": 60,
   "metadata": {
    "slideshow": {
     "slide_type": "slide"
    }
   },
   "outputs": [
    {
     "data": {
      "text/plain": [
       "(0, 200)"
      ]
     },
     "execution_count": 60,
     "metadata": {},
     "output_type": "execute_result"
    },
    {
     "data": {
      "image/png": "[encoded data removed]",
      "text/plain": [
       "<matplotlib.figure.Figure at 0x7f5cab6a10b8>"
      ]
     },
     "metadata": {},
     "output_type": "display_data"
    }
   ],
   "source": [
    "# Need re-binning near zero:\n",
    "HDR_hist(Z)\n",
    "sns.rugplot(Z, color=\"red\")\n",
    "plt.ylim(0,200)"
   ]
  },
  {
   "cell_type": "markdown",
   "metadata": {
    "slideshow": {
     "slide_type": "slide"
    }
   },
   "source": [
    "# (5) Mergability\n",
    "\n",
    "A summary statistic $S$ assigns (one or many) values to a dataset $X$. (E.g. mean value.)\n",
    "\n",
    "Let $X$ and $Y$ be two datasets of size $len(X)=n$ and $len(Y)=m$.\n",
    "Denote the merged dataset by \n",
    "\n",
    "$$X .. Y = [X[1],...,X[n], Y[1],...,Y[m]].$$\n",
    "\n",
    "A summary statistic is _mergable_ if there is an algorithm that computes $S(X..Y)$ from $S(X)$ and $S(Y)$.\n",
    "\n",
    "Example:\n",
    "- The sum is mergable: $sum(X..Y) = sum(X)+sum(Y)$.\n",
    "\n",
    "References: [Agrawal, et. al. - Mergeable Summaries (pdf)](https://www.cs.utah.edu/~jeffp/papers/merge-summ.pdf)"
   ]
  },
  {
   "cell_type": "markdown",
   "metadata": {
    "slideshow": {
     "slide_type": "slide"
    }
   },
   "source": [
    "Exerciese:\n",
    "- Show that the maximum is mergable\n",
    "- Show that the median value is not mergable"
   ]
  },
  {
   "cell_type": "markdown",
   "metadata": {
    "slideshow": {
     "slide_type": "slide"
    }
   },
   "source": [
    "# Mergability in Monitoring: Rollups\n",
    "\n",
    "It's a common practice in monitoring to rolled-up data to different time periods.\n",
    "\n",
    "Example:\n",
    "- raw data arrives every second at monitoring agent\n",
    "- the raw data is rolled-up into 1-minute aggregates at the agent and sumbitted downstream \n",
    "- the 1-minute data is then further rolled-up into 5-minute aggregates\n",
    "- the 5-minute aggregates are rolled-up into 1h aggregates\n",
    "\n",
    "There are two resons for that practice:\n",
    "- Graphing Performance. Large time range graphs can be constructed from the stored aggregates.\n",
    "- Storage costs. Many tools delete the one-minute data eventually and only the aggregates for historic data.\n",
    "\n",
    "For this proceedure to make sense you need either:\n",
    "- Store all your raw data\n",
    "- Use mergable summaries"
   ]
  },
  {
   "cell_type": "markdown",
   "metadata": {
    "slideshow": {
     "slide_type": "slide"
    }
   },
   "source": [
    "# Mergability in Monitoring: Service Level Metrics\n",
    "\n",
    "When monitoring distributed systems, it's common to have many nodes being dedicated to a single service.\n",
    "Service level metrics, that measure properties of the whole system are of great interested for operations and accounting.\n",
    "\n",
    "Examples of service level metrics include:\n",
    "- Total requests served\n",
    "- Latency Percentiles\n",
    "- Average peer lags\n",
    "\n",
    "To collect those service level metrics we need to either:\n",
    "\n",
    "- Stream raw data to a central location and compute the metric there (e.g. statsd, logstash) -> Slow, expensive\n",
    "- Use __mergable summaries__ (e.g. total request counts) that can be computed locally and merged downstream"
   ]
  },
  {
   "cell_type": "markdown",
   "metadata": {
    "slideshow": {
     "slide_type": "slide"
    }
   },
   "source": [
    "# Mean values are not mergable (on the nose)\n",
    "\n",
    "The summary statistic $S(X)=mean(X)$ is not mergable.\n",
    "\n",
    "Proof: Assume contrary that mean is mergable, then there is a computable function $f$ so that:\n",
    "* `X=[0], Y=[1]; mean(X..Y)=0.5`, hence `f(0,1)=0.5` and\n",
    "* `X=[0,0,0], Y=[1]; mean(X..Y)=0.2`, hence `f(0,1)=0.2`\n",
    "\n",
    "A contradition."
   ]
  },
  {
   "cell_type": "markdown",
   "metadata": {
    "collapsed": true,
    "slideshow": {
     "slide_type": "slide"
    }
   },
   "source": [
    "# The mean values can be enriched to a mergable summary\n",
    "\n",
    "With a little trick, we can pimp up the mean statistic to something mergable.\n",
    "\n",
    "For two datasets $X,Y$ of length $n,m$, we can compute the mean value of the merged dataset as follows:\n",
    "\n",
    "$$mean(X..Y) = \\frac{n}{n+m} \\cdot mean(X) + \\frac{m}{n+m} \\cdot mean(Y)$$\n",
    "\n",
    "This shows, that the summary statistic $S(X)=(len(X),mean(X))$ is mergable.\n",
    "\n",
    "Remarks:\n",
    "\n",
    "* Expressions of the form $\\sum w_i X[i]$, with $\\sum w_i = 1$ are called _weighted means_.\n",
    "\n",
    "* Exercise: How do you aggregate a greater number of sample sets: $X_1, ..., X_k$ ?"
   ]
  },
  {
   "cell_type": "code",
   "execution_count": 62,
   "metadata": {
    "slideshow": {
     "slide_type": "slide"
    }
   },
   "outputs": [
    {
     "name": "stdout",
     "output_type": "stream",
     "text": [
      "RHS 5.4\n",
      "LHS 5.4\n"
     ]
    }
   ],
   "source": [
    "# Test\n",
    "print(\"RHS\", mean([1,2,3,10,11]))\n",
    "print(\"LHS\", (3*mean([1,2,3]) + 2*mean([10,11]))/5)"
   ]
  },
  {
   "cell_type": "markdown",
   "metadata": {
    "slideshow": {
     "slide_type": "slide"
    }
   },
   "source": [
    "# Median values are not mergable!\n",
    "\n",
    "Neither the weighted mean nor the median of medians are the median of the total sample set."
   ]
  },
  {
   "cell_type": "markdown",
   "metadata": {
    "slideshow": {
     "slide_type": "slide"
    }
   },
   "source": [
    "# Mergability of Deviation Measures\n",
    "\n",
    "* The standard deviation is mergable.  \n",
    "  More precisely the statistic $S(X)=(len(X),mean(X),stddev(X))$ is mergable.\n",
    "  \n",
    "  Hint: Reduce to the case that `T(X)=(len(X),sum(X),sum([x^2 for x in X]))` is mergable.\n",
    "\n",
    "* Neither max-deviation nor MAD are mergable on the nose."
   ]
  },
  {
   "cell_type": "markdown",
   "metadata": {
    "slideshow": {
     "slide_type": "slide"
    }
   },
   "source": [
    "# Histograms: The Ulitmate Mergable Summary\n",
    "\n",
    "* HDR Histograms as Summary Statistic:  \n",
    "  The value on a dataset $X$ is the sequence of bin,count pairs:  \n",
    "  `H(X) = [(bin_1, count_1), ..., (bin_n, count_n)]`\n",
    "  \n",
    "  E.g. `H([1,2,101,102]) = [(1,1),(2,1),(100,2)]`\n",
    "  \n",
    "* Hisotgrams are mergable: Just add the counts.\n",
    "\n",
    "* All summary statistics and deviations measures can be approximated from Histograms:  \n",
    "  - mean, standard deviation\n",
    "  - min, max\n",
    "  - percentiles, median\n",
    "  \n",
    "Example: [demo](https://demo-hh2.circonus.com/trending/graphs/edit/b4b3bce1-ce5b-418f-a8eb-adfa369a6bed)"
   ]
  },
  {
   "cell_type": "markdown",
   "metadata": {
    "slideshow": {
     "slide_type": "slide"
    }
   },
   "source": [
    "# Overview Monitoring Statistics\n",
    "\n",
    "```\n",
    "| Type         | Statistics     | Robust | Mergable |\n",
    "|--------------|----------------|--------|----------|\n",
    "| Central      | mean           | no     | yes      |\n",
    "|              | median         | yes    | no       |\n",
    "|              | truncated mean | yes    | no       |\n",
    "|--------------|----------------|--------|----------|\n",
    "| Deviation    | stddev         | no     | yes      |\n",
    "|              | mad            | ~      | no       |\n",
    "|              | IQR            | yes    | no       |\n",
    "|--------------|----------------|--------|----------|\n",
    "| Distribution | Percentile     | yes    | no       |\n",
    "|              | Histogram      | yes    | yes      |\n",
    "```"
   ]
  }
 ],
 "metadata": {
  "anaconda-cloud": {},
  "celltoolbar": "Slideshow",
  "kernelspec": {
   "display_name": "Python 3",
   "language": "python",
   "name": "python3"
  },
  "language_info": {
   "codemirror_mode": {
    "name": "ipython",
    "version": 3
   },
   "file_extension": ".py",
   "mimetype": "text/x-python",
   "name": "python",
   "nbconvert_exporter": "python",
   "pygments_lexer": "ipython3",
   "version": "3.6.2"
  },
  "nbpresent": {
   "slides": {
    "0b94c017-b788-4858-ad04-4ff72722987d": {
     "id": "0b94c017-b788-4858-ad04-4ff72722987d",
     "layout": "grid",
     "prev": null,
     "regions": {},
     "theme": null
    }
   },
   "themes": {}
  }
 },
 "nbformat": 4,
 "nbformat_minor": 1
}
