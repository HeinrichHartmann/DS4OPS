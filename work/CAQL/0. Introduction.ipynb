{
 "cells": [
  {
   "cell_type": "markdown",
   "metadata": {},
   "source": [
    "# The Circonus Analytics Language CAQL\n",
    "\n",
    "Heinrich Hartmann\n",
    "\n",
    "2018-07-02"
   ]
  },
  {
   "cell_type": "markdown",
   "metadata": {},
   "source": [
    "## What is CAQL?\n",
    "\n",
    "- Introduced in 2015\n",
    "- Domain specific language for stream processing\n",
    "- Enables Graphing and Alerting capabilities in Circonus\n",
    "- Good set of basic stream processing functions\n",
    "- Powerful composition capabilities"
   ]
  },
  {
   "cell_type": "markdown",
   "metadata": {},
   "source": [
    "## CAQL in the Circonus Architecture\n",
    "\n",
    "CAQL queries are evaluated at two places in the Circonus Architecture.\n",
    "The datastore IRONdb comes with a CAQL intepreter built in, so queries can be made against historic data.\n",
    "There is a separate stream analytics component called caql-broker that evaluates CAQL queries over the stream of incoming metric data.\n",
    "\n",
    "![](img/caql_architecture.png)"
   ]
  },
  {
   "cell_type": "markdown",
   "metadata": {},
   "source": [
    "## CAQL Use Case Examples\n",
    "\n",
    "**TODO:** Expand Use Case Examples\n",
    "\n",
    "* Basic Summary Statistics:\n",
    "  https://circonus-ops.circonus.com/trending/graphs/view/585337ee-8bc6-42c3-bcb4-1a6a333dc821\n",
    "\n",
    "* Data aggregation across time and metrics\n",
    "\n",
    "* Service Level Indicators\n",
    "  - Computing accurate percentiles over time\n",
    "  - Alerting on Percentiles\n",
    "\n",
    "\n",
    "* Histogram Analysis \n",
    "  https://demo.circonus.com/trending/graphs/view/1ee4e12e-5603-4d96-9c08-429051471731\n",
    "\n",
    "* Touch Tunes Outlier Detection\n",
    "  https://www.circonus.com/casestudies/touchtunes/\n",
    "\n",
    "* Alerting on Forecasted Values"
   ]
  }
 ],
 "metadata": {
  "kernelspec": {
   "display_name": "Python 3",
   "language": "python",
   "name": "python3"
  },
  "language_info": {
   "codemirror_mode": {
    "name": "ipython",
    "version": 3
   },
   "file_extension": ".py",
   "mimetype": "text/x-python",
   "name": "python",
   "nbconvert_exporter": "python",
   "pygments_lexer": "ipython3",
   "version": "3.6.4"
  }
 },
 "nbformat": 4,
 "nbformat_minor": 2
}
