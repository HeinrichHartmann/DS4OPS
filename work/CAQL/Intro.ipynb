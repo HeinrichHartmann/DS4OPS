{
 "cells": [
  {
   "cell_type": "markdown",
   "metadata": {},
   "source": [
    "# CAQL Training\n",
    "\n",
    "by Heinrich Hartmnn\n",
    "\n",
    "2018-06-26"
   ]
  },
  {
   "cell_type": "markdown",
   "metadata": {},
   "source": [
    "## Plan for Today\n",
    "\n",
    "0. First Steps with CAQL\n",
    "\n",
    "1. The CAQL Processing Model\n",
    "\n",
    "2. Getting data into CAQL\n",
    "\n",
    "3. Aggregating data\n",
    "\n",
    "4. Stream Operations\n",
    "\n",
    "5. Missing Data\n",
    "\n",
    "6. Forecasting Data\n",
    "\n",
    "7. Handling Histograms"
   ]
  },
  {
   "cell_type": "markdown",
   "metadata": {},
   "source": [
    "## Circonus Analytics History\n",
    "\n",
    "- Started with Graph Overlays\n",
    "  - Needed more flexibility\n",
    "  - Alerting on overlays is slow and limited\n",
    "\n",
    "\n",
    "- Introduced CAQL in 2015\n",
    "  - Domain specific language for stream processing\n",
    "  - Good set of basic stream processing functions\n",
    "  - Powerful composition capabilities\n",
    "  - Enables Graphing and Alerting\n",
    "\n",
    "Long term perspective is that, CAQL should become the primary data fecthing method."
   ]
  },
  {
   "cell_type": "markdown",
   "metadata": {},
   "source": [
    "## CAQL in the Circonus Architecture\n",
    "\n",
    "![](img/caql_architecture.png)"
   ]
  },
  {
   "cell_type": "markdown",
   "metadata": {},
   "source": [
    "## CAQL Use Case Examples\n",
    "\n",
    "* Basic Summary Statistics:\n",
    "  https://circonus-ops.circonus.com/trending/graphs/view/585337ee-8bc6-42c3-bcb4-1a6a333dc821\n",
    "\n",
    "* Data aggregation across time and metrics\n",
    "\n",
    "* Service Level Indicators\n",
    "  - Computing accurate percentiles over time\n",
    "  - Alerting on Percentiles\n",
    "\n",
    "* Histogram Analysis: https://demo.circonus.com/trending/graphs/view/1ee4e12e-5603-4d96-9c08-429051471731\n",
    "\n",
    "* Touch Tunes AD: https://www.circonus.com/casestudies/touchtunes/\n",
    "\n",
    "* Forecasting data\n",
    "  - Alerting on Forecasted Values"
   ]
  }
 ],
 "metadata": {
  "kernelspec": {
   "display_name": "Python 3",
   "language": "python",
   "name": "python3"
  },
  "language_info": {
   "codemirror_mode": {
    "name": "ipython",
    "version": 3
   },
   "file_extension": ".py",
   "mimetype": "text/x-python",
   "name": "python",
   "nbconvert_exporter": "python",
   "pygments_lexer": "ipython3",
   "version": "3.6.4"
  }
 },
 "nbformat": 4,
 "nbformat_minor": 2
}
