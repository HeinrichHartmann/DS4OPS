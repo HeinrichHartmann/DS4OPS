{
 "cells": [
  {
   "cell_type": "markdown",
   "metadata": {},
   "source": [
    "# Data Science for Effective Operations\n",
    "\n",
    "Workshop at Velocity London\n",
    "\n",
    "by Heinrich Hartmann @ Circonus"
   ]
  },
  {
   "cell_type": "markdown",
   "metadata": {},
   "source": [
    "## Plan\n",
    "\n",
    "\n",
    "1. Fetching data from a Monitoring System\n",
    "  - Circonus API\n",
    "  - Graphite API\n",
    "  - Basic data types:\n",
    "    - gauges\n",
    "    - counters\n",
    "    - histograms\n",
    "    - text\n",
    "\n",
    "1. Python Data Science Tool Chain\n",
    "   - numpy\n",
    "   - matplotlib\n",
    "   - pandas\n",
    "   - scipy\n",
    "   - SciKit Learn\n",
    "   - tensor flow\n",
    "\n",
    "1. Visualizing Data\n",
    "   - Rugplots\n",
    "   - Scatterplots\n",
    "   - Line Plots\n",
    "   - Plotting Histograms\n",
    "\n",
    "1. Descriptive Statistics\n",
    "   - Distributions and Histograms\n",
    "   - Mean/Variance\n",
    "   - Quantiles/IQR\n",
    "   - Mergability\n",
    "   - Robustness\n",
    "\n",
    "1. Time Series Analysis\n",
    "   - Filter\n",
    "   - Exponential Smoothing\n",
    "   - Double Exponential Smoothing\n",
    "   - Triple Exponential Smoothing = Holt Winters\n",
    "   - CUSUM\n",
    "   - Anomaly Detection Filter\n",
    "     \n",
    "1. Regression and Correlation\n",
    "   - Linear Regression\n",
    "   - Covariance and Correlation\n",
    "   - R^2 Values\n",
    "   - Correlation Analysis\n",
    "   \n",
    "1. A/B Testing\n",
    "   - Comparing Distributions\n",
    "   - Hypothesis testing\n",
    "   - Normally Distributed Data: t-test\n",
    "   - Mann Whiyney Test\n",
    "   - Kolomogorov Smironv Test"
   ]
  },
  {
   "cell_type": "code",
   "execution_count": null,
   "metadata": {},
   "outputs": [],
   "source": []
  }
 ],
 "metadata": {
  "kernelspec": {
   "display_name": "Python 3",
   "language": "python",
   "name": "python3"
  },
  "language_info": {
   "codemirror_mode": {
    "name": "ipython",
    "version": 3
   },
   "file_extension": ".py",
   "mimetype": "text/x-python",
   "name": "python",
   "nbconvert_exporter": "python",
   "pygments_lexer": "ipython3",
   "version": "3.6.2"
  }
 },
 "nbformat": 4,
 "nbformat_minor": 2
}
